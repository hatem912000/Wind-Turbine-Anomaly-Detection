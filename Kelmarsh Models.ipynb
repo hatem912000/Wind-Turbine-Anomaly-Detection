{
 "cells": [
  {
   "cell_type": "markdown",
   "id": "bc816a19",
   "metadata": {},
   "source": [
    "# Modeling"
   ]
  },
  {
   "cell_type": "code",
   "execution_count": 1,
   "id": "4a6f29bd",
   "metadata": {},
   "outputs": [],
   "source": [
    "#INSTALLING DEPENDENCIES\n",
    "import pandas as pd\n",
    "import seaborn as sns\n",
    "import numpy as np\n",
    "import matplotlib.pyplot as plt\n",
    "%matplotlib inline\n",
    "\n",
    "from sklearn.model_selection import train_test_split\n",
    "from xgboost import XGBClassifier\n",
    "from sklearn.ensemble import RandomForestClassifier\n",
    "from sklearn import tree\n",
    "from sklearn.metrics import classification_report, confusion_matrix\n",
    "\n",
    "from tensorflow import keras\n",
    "from tensorflow.keras.models import Sequential, Model\n",
    "from tensorflow.keras.layers import Conv1D, MaxPooling1D, Flatten, Input, Dense, LSTM, Dropout, RepeatVector, TimeDistributed\n",
    "from keras.optimizers import Adam\n",
    "from keras import regularizers"
   ]
  },
  {
   "cell_type": "markdown",
   "id": "e8c6113e",
   "metadata": {},
   "source": [
    "## Loading Preprocessed Data "
   ]
  },
  {
   "cell_type": "code",
   "execution_count": 2,
   "id": "5b9fc2a4",
   "metadata": {
    "scrolled": true
   },
   "outputs": [
    {
     "data": {
      "text/html": [
       "<div>\n",
       "<style scoped>\n",
       "    .dataframe tbody tr th:only-of-type {\n",
       "        vertical-align: middle;\n",
       "    }\n",
       "\n",
       "    .dataframe tbody tr th {\n",
       "        vertical-align: top;\n",
       "    }\n",
       "\n",
       "    .dataframe thead th {\n",
       "        text-align: right;\n",
       "    }\n",
       "</style>\n",
       "<table border=\"1\" class=\"dataframe\">\n",
       "  <thead>\n",
       "    <tr style=\"text-align: right;\">\n",
       "      <th></th>\n",
       "      <th>Wind speed (m/s)</th>\n",
       "      <th>Long Term Wind (m/s)</th>\n",
       "      <th>Wind speed Sensor 1 (m/s)</th>\n",
       "      <th>Wind speed Sensor 2 (m/s)</th>\n",
       "      <th>Wind direction (°)</th>\n",
       "      <th>Nacelle position (°)</th>\n",
       "      <th>Vane position 1+2 (°)</th>\n",
       "      <th>Power (kW)</th>\n",
       "      <th>Turbine Power setpoint (kW)</th>\n",
       "      <th>Reactive power (kvar)</th>\n",
       "      <th>...</th>\n",
       "      <th>Blade angle (pitch position) C (°)</th>\n",
       "      <th>Yaw bearing angle (°)</th>\n",
       "      <th>Gear oil inlet pressure (bar)</th>\n",
       "      <th>Gear oil pump pressure (bar)</th>\n",
       "      <th>Grid frequency (Hz)</th>\n",
       "      <th>Apparent power (kVA)</th>\n",
       "      <th>Drive train acceleration (mm/ss)</th>\n",
       "      <th>Tower Acceleration X (mm/ss)</th>\n",
       "      <th>Tower Acceleration y (mm/ss)</th>\n",
       "      <th>anomaly</th>\n",
       "    </tr>\n",
       "  </thead>\n",
       "  <tbody>\n",
       "    <tr>\n",
       "      <th>0</th>\n",
       "      <td>0.742150</td>\n",
       "      <td>-0.609653</td>\n",
       "      <td>0.658625</td>\n",
       "      <td>0.746686</td>\n",
       "      <td>1.588854</td>\n",
       "      <td>1.62371</td>\n",
       "      <td>-0.260758</td>\n",
       "      <td>0.712101</td>\n",
       "      <td>1.021277</td>\n",
       "      <td>-0.736459</td>\n",
       "      <td>...</td>\n",
       "      <td>-0.376718</td>\n",
       "      <td>1.623709</td>\n",
       "      <td>1.114850</td>\n",
       "      <td>0.812539</td>\n",
       "      <td>-0.089257</td>\n",
       "      <td>0.709760</td>\n",
       "      <td>5.487802</td>\n",
       "      <td>0.025632</td>\n",
       "      <td>0.445277</td>\n",
       "      <td>1</td>\n",
       "    </tr>\n",
       "    <tr>\n",
       "      <th>1</th>\n",
       "      <td>0.567030</td>\n",
       "      <td>-0.609653</td>\n",
       "      <td>0.513932</td>\n",
       "      <td>0.612426</td>\n",
       "      <td>1.561509</td>\n",
       "      <td>1.62371</td>\n",
       "      <td>-0.311974</td>\n",
       "      <td>0.609483</td>\n",
       "      <td>0.917348</td>\n",
       "      <td>-0.650119</td>\n",
       "      <td>...</td>\n",
       "      <td>-0.376718</td>\n",
       "      <td>1.623709</td>\n",
       "      <td>1.264111</td>\n",
       "      <td>0.955602</td>\n",
       "      <td>-0.052797</td>\n",
       "      <td>0.612785</td>\n",
       "      <td>6.339041</td>\n",
       "      <td>0.002650</td>\n",
       "      <td>0.307569</td>\n",
       "      <td>1</td>\n",
       "    </tr>\n",
       "    <tr>\n",
       "      <th>2</th>\n",
       "      <td>0.617562</td>\n",
       "      <td>-0.609653</td>\n",
       "      <td>0.580067</td>\n",
       "      <td>0.627677</td>\n",
       "      <td>1.555763</td>\n",
       "      <td>1.62371</td>\n",
       "      <td>-0.334879</td>\n",
       "      <td>0.700478</td>\n",
       "      <td>1.173613</td>\n",
       "      <td>-0.887011</td>\n",
       "      <td>...</td>\n",
       "      <td>-0.376718</td>\n",
       "      <td>1.623709</td>\n",
       "      <td>0.545394</td>\n",
       "      <td>0.314733</td>\n",
       "      <td>0.107740</td>\n",
       "      <td>0.712037</td>\n",
       "      <td>6.383784</td>\n",
       "      <td>-0.234531</td>\n",
       "      <td>0.052997</td>\n",
       "      <td>1</td>\n",
       "    </tr>\n",
       "    <tr>\n",
       "      <th>3</th>\n",
       "      <td>0.607886</td>\n",
       "      <td>-0.609653</td>\n",
       "      <td>0.570906</td>\n",
       "      <td>0.614425</td>\n",
       "      <td>1.549362</td>\n",
       "      <td>1.62371</td>\n",
       "      <td>-0.496544</td>\n",
       "      <td>0.643069</td>\n",
       "      <td>0.978726</td>\n",
       "      <td>-0.718919</td>\n",
       "      <td>...</td>\n",
       "      <td>-0.376718</td>\n",
       "      <td>1.623709</td>\n",
       "      <td>1.824157</td>\n",
       "      <td>1.404832</td>\n",
       "      <td>-0.140324</td>\n",
       "      <td>0.644570</td>\n",
       "      <td>6.049186</td>\n",
       "      <td>-0.202035</td>\n",
       "      <td>0.906125</td>\n",
       "      <td>1</td>\n",
       "    </tr>\n",
       "    <tr>\n",
       "      <th>4</th>\n",
       "      <td>0.576726</td>\n",
       "      <td>-0.609653</td>\n",
       "      <td>0.531557</td>\n",
       "      <td>0.519676</td>\n",
       "      <td>1.555541</td>\n",
       "      <td>1.62371</td>\n",
       "      <td>-0.492387</td>\n",
       "      <td>0.451087</td>\n",
       "      <td>0.812603</td>\n",
       "      <td>-0.592508</td>\n",
       "      <td>...</td>\n",
       "      <td>-0.376718</td>\n",
       "      <td>1.623709</td>\n",
       "      <td>0.764606</td>\n",
       "      <td>0.479379</td>\n",
       "      <td>-0.184053</td>\n",
       "      <td>0.456094</td>\n",
       "      <td>6.012873</td>\n",
       "      <td>-0.248266</td>\n",
       "      <td>0.675658</td>\n",
       "      <td>1</td>\n",
       "    </tr>\n",
       "  </tbody>\n",
       "</table>\n",
       "<p>5 rows × 49 columns</p>\n",
       "</div>"
      ],
      "text/plain": [
       "   Wind speed (m/s)  Long Term Wind (m/s)  Wind speed Sensor 1 (m/s)   \n",
       "0          0.742150             -0.609653                   0.658625  \\\n",
       "1          0.567030             -0.609653                   0.513932   \n",
       "2          0.617562             -0.609653                   0.580067   \n",
       "3          0.607886             -0.609653                   0.570906   \n",
       "4          0.576726             -0.609653                   0.531557   \n",
       "\n",
       "   Wind speed Sensor 2 (m/s)  Wind direction (°)  Nacelle position (°)   \n",
       "0                   0.746686            1.588854               1.62371  \\\n",
       "1                   0.612426            1.561509               1.62371   \n",
       "2                   0.627677            1.555763               1.62371   \n",
       "3                   0.614425            1.549362               1.62371   \n",
       "4                   0.519676            1.555541               1.62371   \n",
       "\n",
       "   Vane position 1+2 (°)  Power (kW)  Turbine Power setpoint (kW)   \n",
       "0              -0.260758    0.712101                     1.021277  \\\n",
       "1              -0.311974    0.609483                     0.917348   \n",
       "2              -0.334879    0.700478                     1.173613   \n",
       "3              -0.496544    0.643069                     0.978726   \n",
       "4              -0.492387    0.451087                     0.812603   \n",
       "\n",
       "   Reactive power (kvar)  ...  Blade angle (pitch position) C (°)   \n",
       "0              -0.736459  ...                           -0.376718  \\\n",
       "1              -0.650119  ...                           -0.376718   \n",
       "2              -0.887011  ...                           -0.376718   \n",
       "3              -0.718919  ...                           -0.376718   \n",
       "4              -0.592508  ...                           -0.376718   \n",
       "\n",
       "   Yaw bearing angle (°)  Gear oil inlet pressure (bar)   \n",
       "0               1.623709                       1.114850  \\\n",
       "1               1.623709                       1.264111   \n",
       "2               1.623709                       0.545394   \n",
       "3               1.623709                       1.824157   \n",
       "4               1.623709                       0.764606   \n",
       "\n",
       "   Gear oil pump pressure (bar)  Grid frequency (Hz)  Apparent power (kVA)   \n",
       "0                      0.812539            -0.089257              0.709760  \\\n",
       "1                      0.955602            -0.052797              0.612785   \n",
       "2                      0.314733             0.107740              0.712037   \n",
       "3                      1.404832            -0.140324              0.644570   \n",
       "4                      0.479379            -0.184053              0.456094   \n",
       "\n",
       "   Drive train acceleration (mm/ss)  Tower Acceleration X (mm/ss)   \n",
       "0                          5.487802                      0.025632  \\\n",
       "1                          6.339041                      0.002650   \n",
       "2                          6.383784                     -0.234531   \n",
       "3                          6.049186                     -0.202035   \n",
       "4                          6.012873                     -0.248266   \n",
       "\n",
       "   Tower Acceleration y (mm/ss)  anomaly  \n",
       "0                      0.445277        1  \n",
       "1                      0.307569        1  \n",
       "2                      0.052997        1  \n",
       "3                      0.906125        1  \n",
       "4                      0.675658        1  \n",
       "\n",
       "[5 rows x 49 columns]"
      ]
     },
     "execution_count": 2,
     "metadata": {},
     "output_type": "execute_result"
    }
   ],
   "source": [
    "# file for data from 2018-2021 : Kelmarsh_turbine1(2018-2021).csv\n",
    "# file for 2020 data Kelmarsh_turbine1-2020.csv\n",
    "\n",
    "#reading the clean data\n",
    "PreprocessedDataTurbine1 = pd.read_csv(\"Kelmarsh_turbine1(2018-2021).csv\", sep=',')\n",
    "PreprocessedDataTurbine1 = PreprocessedDataTurbine1.drop('Unnamed: 0', axis=1)\n",
    "\n",
    "PreprocessedDataTurbine1.head()"
   ]
  },
  {
   "cell_type": "code",
   "execution_count": 3,
   "id": "7bc0d4a4",
   "metadata": {},
   "outputs": [
    {
     "data": {
      "text/plain": [
       "(166905, 49)"
      ]
     },
     "execution_count": 3,
     "metadata": {},
     "output_type": "execute_result"
    }
   ],
   "source": [
    "PreprocessedDataTurbine1.shape"
   ]
  },
  {
   "cell_type": "markdown",
   "id": "0f7cfbbe",
   "metadata": {},
   "source": [
    "## Splitting the data to train and test data "
   ]
  },
  {
   "cell_type": "markdown",
   "id": "5caff78a",
   "metadata": {},
   "source": [
    "### Time Series Split (For LSTM-AE model)"
   ]
  },
  {
   "cell_type": "code",
   "execution_count": 4,
   "id": "e509b5d0",
   "metadata": {},
   "outputs": [
    {
     "name": "stdout",
     "output_type": "stream",
     "text": [
      "Size of training data: (116833,)\n",
      "Number of anomalies in training data: 35978\n",
      "Size of test data: (50072,)\n",
      "Number of anomalies in test data: 9806\n"
     ]
    }
   ],
   "source": [
    "# Assume your data is in a pandas DataFrame named 'df' with a datetime index\n",
    "split_point = int(.7 * PreprocessedDataTurbine1.shape[0])\n",
    "train_data = PreprocessedDataTurbine1.loc[PreprocessedDataTurbine1.index < split_point]\n",
    "test_data = PreprocessedDataTurbine1.loc[PreprocessedDataTurbine1.index >= split_point]\n",
    "\n",
    "# Split the data into X (features) and y (labels/target)\n",
    "X_train, y_train = train_data.drop('anomaly', axis=1), train_data['anomaly']\n",
    "X_test, y_test = test_data.drop('anomaly', axis=1), test_data['anomaly']\n",
    "\n",
    "# get the indices of the normal points in y_train\n",
    "normal_idx = y_train[y_train == 0].index\n",
    "anomaly_idx = y_train[y_train == 1].index\n",
    "\n",
    "# select only the rows with normal points from X_train to train our unsupervised model\n",
    "X_train_normal = X_train.loc[normal_idx]\n",
    "X_train_anomalies = X_train.loc[anomaly_idx]\n",
    "X_train_normal.shape\n",
    "\n",
    "train_anomalies = np.count_nonzero(y_train == 1)\n",
    "test_anomalies = np.count_nonzero(y_test == 1)\n",
    "print(\"Size of training data:\", y_train.shape)\n",
    "print(\"Number of anomalies in training data:\", train_anomalies)\n",
    "print(\"Size of test data:\", y_test.shape)\n",
    "print(\"Number of anomalies in test data:\", test_anomalies)"
   ]
  },
  {
   "cell_type": "markdown",
   "id": "654c7ba6",
   "metadata": {},
   "source": [
    "### Splitting Row Data "
   ]
  },
  {
   "cell_type": "code",
   "execution_count": 5,
   "id": "376eb895",
   "metadata": {},
   "outputs": [
    {
     "name": "stdout",
     "output_type": "stream",
     "text": [
      "Size of training data: (116833,)\n",
      "Number of anomalies in training data: 32099\n",
      "Size of test data: (50072,)\n",
      "Number of anomalies in test data: 13685\n"
     ]
    }
   ],
   "source": [
    "Rowdata=PreprocessedDataTurbine1\n",
    "\n",
    "X, y = Rowdata.drop('anomaly', axis=1), Rowdata['anomaly']\n",
    "\n",
    "# Split the data into training and testing sets\n",
    "Row_X_train, Row_X_test, Row_y_train, Row_y_test = train_test_split(X, y, test_size=0.3)\n",
    "\n",
    "Row_train_anomalies = np.count_nonzero(Row_y_train == 1)\n",
    "Row_test_anomalies = np.count_nonzero(Row_y_test == 1)\n",
    "\n",
    "print(\"Size of training data:\", Row_y_train.shape)\n",
    "print(\"Number of anomalies in training data:\", Row_train_anomalies)\n",
    "print(\"Size of test data:\", Row_y_test.shape)\n",
    "print(\"Number of anomalies in test data:\", Row_test_anomalies)"
   ]
  },
  {
   "cell_type": "markdown",
   "id": "2687723c",
   "metadata": {},
   "source": [
    "## Models"
   ]
  },
  {
   "cell_type": "markdown",
   "id": "54a5fae9",
   "metadata": {},
   "source": [
    "### Random Forest feature selection"
   ]
  },
  {
   "cell_type": "code",
   "execution_count": null,
   "id": "a7549268",
   "metadata": {},
   "outputs": [],
   "source": [
    "rfc = RandomForestClassifier(n_estimators=100, random_state=100)\n",
    "rfc.fit(Row_X_train, Row_y_train)\n",
    "rf_y_pred = rfc.predict(Row_X_test)\n",
    "print(classification_report(Row_y_test, rf_y_pred))\n",
    "\n",
    "# Create a dictionary that maps feature names to their importances\n",
    "rf_importances = dict(zip(Row_X_test.columns, rfc.feature_importances_))\n",
    "\n",
    "# Print the feature importances in descending order\n",
    "for feature, importance in sorted(rf_importances.items(), key=lambda x: x[1], reverse=True):\n",
    "    print(f'{feature}: {importance}')\n",
    "\n",
    "# Select the most important features"
   ]
  },
  {
   "cell_type": "markdown",
   "id": "528126a0",
   "metadata": {},
   "source": [
    "### XGBoost (for anomaly location)"
   ]
  },
  {
   "cell_type": "code",
   "execution_count": null,
   "id": "e8f8a523",
   "metadata": {},
   "outputs": [],
   "source": [
    "xgb = XGBClassifier()\n",
    "xgb.fit(Row_X_train, Row_y_train)\n",
    "xgb_y_pred = xgb.predict(Row_X_test)\n",
    "print(classification_report(Row_y_test, xgb_y_pred))\n",
    "\n",
    "\n",
    "# Create a dictionary that maps feature names to their importances\n",
    "xgb_importances = dict(zip(Row_X_test.columns, xgb.feature_importances_))\n",
    "\n",
    "# Print the feature importances in descending order\n",
    "for feature, importance in sorted(xgb_importances.items(), key=lambda x: x[1], reverse=True):\n",
    "    print(f'{feature}: {importance}')"
   ]
  },
  {
   "cell_type": "markdown",
   "id": "7b9b0fa1",
   "metadata": {},
   "source": [
    "### AE"
   ]
  },
  {
   "cell_type": "code",
   "execution_count": 6,
   "id": "5b84003d",
   "metadata": {
    "scrolled": true
   },
   "outputs": [
    {
     "name": "stdout",
     "output_type": "stream",
     "text": [
      "Epoch 1/60\n",
      "298/298 [==============================] - 3s 5ms/step - loss: 0.6407 - val_loss: 0.5653\n",
      "Epoch 2/60\n",
      "298/298 [==============================] - 1s 5ms/step - loss: 0.5771 - val_loss: 0.5562\n",
      "Epoch 3/60\n",
      "298/298 [==============================] - 1s 5ms/step - loss: 0.5686 - val_loss: 0.5488\n",
      "Epoch 4/60\n",
      "298/298 [==============================] - 1s 4ms/step - loss: 0.5631 - val_loss: 0.5452\n",
      "Epoch 5/60\n",
      "298/298 [==============================] - 1s 4ms/step - loss: 0.5605 - val_loss: 0.5437\n",
      "Epoch 6/60\n",
      "298/298 [==============================] - 1s 4ms/step - loss: 0.5578 - val_loss: 0.5401\n",
      "Epoch 7/60\n",
      "298/298 [==============================] - 1s 4ms/step - loss: 0.5545 - val_loss: 0.5363\n",
      "Epoch 8/60\n",
      "298/298 [==============================] - 1s 4ms/step - loss: 0.5520 - val_loss: 0.5341\n",
      "Epoch 9/60\n",
      "298/298 [==============================] - 1s 5ms/step - loss: 0.5503 - val_loss: 0.5321\n",
      "Epoch 10/60\n",
      "298/298 [==============================] - 1s 4ms/step - loss: 0.5485 - val_loss: 0.5304\n",
      "Epoch 11/60\n",
      "298/298 [==============================] - 1s 4ms/step - loss: 0.5471 - val_loss: 0.5292\n",
      "Epoch 12/60\n",
      "298/298 [==============================] - 1s 5ms/step - loss: 0.5459 - val_loss: 0.5289\n",
      "Epoch 13/60\n",
      "298/298 [==============================] - 1s 5ms/step - loss: 0.5452 - val_loss: 0.5283\n",
      "Epoch 14/60\n",
      "298/298 [==============================] - 1s 4ms/step - loss: 0.5444 - val_loss: 0.5267\n",
      "Epoch 15/60\n",
      "298/298 [==============================] - 1s 5ms/step - loss: 0.5435 - val_loss: 0.5263\n",
      "Epoch 16/60\n",
      "298/298 [==============================] - 1s 4ms/step - loss: 0.5427 - val_loss: 0.5258\n",
      "Epoch 17/60\n",
      "298/298 [==============================] - 1s 5ms/step - loss: 0.5419 - val_loss: 0.5249\n",
      "Epoch 18/60\n",
      "298/298 [==============================] - 1s 4ms/step - loss: 0.5414 - val_loss: 0.5247\n",
      "Epoch 19/60\n",
      "298/298 [==============================] - 1s 5ms/step - loss: 0.5413 - val_loss: 0.5240\n",
      "Epoch 20/60\n",
      "298/298 [==============================] - 1s 5ms/step - loss: 0.5406 - val_loss: 0.5241\n",
      "Epoch 21/60\n",
      "298/298 [==============================] - 1s 5ms/step - loss: 0.5401 - val_loss: 0.5237\n",
      "Epoch 22/60\n",
      "298/298 [==============================] - 1s 5ms/step - loss: 0.5400 - val_loss: 0.5237\n",
      "Epoch 23/60\n",
      "298/298 [==============================] - 2s 5ms/step - loss: 0.5396 - val_loss: 0.5234\n",
      "Epoch 24/60\n",
      "298/298 [==============================] - 2s 5ms/step - loss: 0.5394 - val_loss: 0.5232\n",
      "Epoch 25/60\n",
      "298/298 [==============================] - 2s 5ms/step - loss: 0.5390 - val_loss: 0.5230\n",
      "Epoch 26/60\n",
      "298/298 [==============================] - 2s 6ms/step - loss: 0.5387 - val_loss: 0.5224\n",
      "Epoch 27/60\n",
      "298/298 [==============================] - 2s 5ms/step - loss: 0.5384 - val_loss: 0.5223\n",
      "Epoch 28/60\n",
      "298/298 [==============================] - 2s 5ms/step - loss: 0.5382 - val_loss: 0.5215\n",
      "Epoch 29/60\n",
      "298/298 [==============================] - 2s 5ms/step - loss: 0.5377 - val_loss: 0.5209\n",
      "Epoch 30/60\n",
      "298/298 [==============================] - 2s 5ms/step - loss: 0.5374 - val_loss: 0.5210\n",
      "Epoch 31/60\n",
      "298/298 [==============================] - 2s 5ms/step - loss: 0.5371 - val_loss: 0.5202\n",
      "Epoch 32/60\n",
      "298/298 [==============================] - 2s 5ms/step - loss: 0.5369 - val_loss: 0.5198\n",
      "Epoch 33/60\n",
      "298/298 [==============================] - 2s 6ms/step - loss: 0.5365 - val_loss: 0.5202\n",
      "Epoch 34/60\n",
      "298/298 [==============================] - 2s 6ms/step - loss: 0.5364 - val_loss: 0.5199\n",
      "Epoch 35/60\n",
      "298/298 [==============================] - 2s 6ms/step - loss: 0.5361 - val_loss: 0.5200\n",
      "Epoch 36/60\n",
      "298/298 [==============================] - 2s 6ms/step - loss: 0.5358 - val_loss: 0.5195\n",
      "Epoch 37/60\n",
      "298/298 [==============================] - 2s 6ms/step - loss: 0.5357 - val_loss: 0.5195\n",
      "Epoch 38/60\n",
      "298/298 [==============================] - 2s 6ms/step - loss: 0.5354 - val_loss: 0.5187\n",
      "Epoch 39/60\n",
      "298/298 [==============================] - 2s 6ms/step - loss: 0.5353 - val_loss: 0.5189\n",
      "Epoch 40/60\n",
      "298/298 [==============================] - 2s 6ms/step - loss: 0.5352 - val_loss: 0.5193\n",
      "Epoch 41/60\n",
      "298/298 [==============================] - 2s 6ms/step - loss: 0.5349 - val_loss: 0.5186\n",
      "Epoch 42/60\n",
      "298/298 [==============================] - 2s 7ms/step - loss: 0.5348 - val_loss: 0.5189\n",
      "Epoch 43/60\n",
      "298/298 [==============================] - 2s 6ms/step - loss: 0.5347 - val_loss: 0.5188\n",
      "Epoch 44/60\n",
      "298/298 [==============================] - 2s 7ms/step - loss: 0.5345 - val_loss: 0.5189\n",
      "Epoch 45/60\n",
      "298/298 [==============================] - 2s 7ms/step - loss: 0.5343 - val_loss: 0.5184\n",
      "Epoch 46/60\n",
      "298/298 [==============================] - 2s 6ms/step - loss: 0.5343 - val_loss: 0.5190\n",
      "Epoch 47/60\n",
      "298/298 [==============================] - 2s 7ms/step - loss: 0.5343 - val_loss: 0.5188\n",
      "Epoch 48/60\n",
      "298/298 [==============================] - 2s 7ms/step - loss: 0.5339 - val_loss: 0.5182\n",
      "Epoch 49/60\n",
      "298/298 [==============================] - 2s 7ms/step - loss: 0.5338 - val_loss: 0.5186\n",
      "Epoch 50/60\n",
      "298/298 [==============================] - 2s 7ms/step - loss: 0.5337 - val_loss: 0.5183\n",
      "Epoch 51/60\n",
      "298/298 [==============================] - 2s 7ms/step - loss: 0.5336 - val_loss: 0.5181\n",
      "Epoch 52/60\n",
      "298/298 [==============================] - 2s 8ms/step - loss: 0.5337 - val_loss: 0.5186\n",
      "Epoch 53/60\n",
      "298/298 [==============================] - 2s 7ms/step - loss: 0.5334 - val_loss: 0.5187\n",
      "Epoch 54/60\n",
      "298/298 [==============================] - 2s 7ms/step - loss: 0.5332 - val_loss: 0.5182\n",
      "Epoch 55/60\n",
      "298/298 [==============================] - 2s 7ms/step - loss: 0.5333 - val_loss: 0.5182\n",
      "Epoch 56/60\n",
      "298/298 [==============================] - 2s 7ms/step - loss: 0.5331 - val_loss: 0.5185\n",
      "Epoch 57/60\n",
      "298/298 [==============================] - 2s 6ms/step - loss: 0.5331 - val_loss: 0.5176\n",
      "Epoch 58/60\n",
      "298/298 [==============================] - 2s 6ms/step - loss: 0.5329 - val_loss: 0.5185\n",
      "Epoch 59/60\n",
      "298/298 [==============================] - 2s 7ms/step - loss: 0.5328 - val_loss: 0.5186\n",
      "Epoch 60/60\n",
      "298/298 [==============================] - 2s 7ms/step - loss: 0.5327 - val_loss: 0.5180\n"
     ]
    }
   ],
   "source": [
    "# for unsupervised anomaly detection we use only the normal data for training\n",
    "train_index = Row_y_train[Row_y_train == 0].index\n",
    "AE_train_data = Row_X_train.loc[train_index]\n",
    "\n",
    "\n",
    "# create a model by subclassing Model class in tensorflow\n",
    "class AutoEncoder(Model):\n",
    "  \"\"\"\n",
    "  Parameters\n",
    "  ----------\n",
    "  output_units: int\n",
    "    Number of output units\n",
    "  \n",
    "  code_size: int\n",
    "    Number of units in bottle neck\n",
    "  \"\"\"\n",
    "\n",
    "  def __init__(self, output_units, code_size=8):\n",
    "    super().__init__()\n",
    "    self.encoder = Sequential([\n",
    "      Dense(64, activation='relu'),\n",
    "      Dropout(0.1),\n",
    "      Dense(32, activation='relu'),\n",
    "      Dropout(0.1),\n",
    "      Dense(16, activation='relu'),\n",
    "      Dropout(0.1),\n",
    "      Dense(code_size, activation='relu')\n",
    "    ])\n",
    "    self.decoder = Sequential([\n",
    "      Dense(16, activation='relu'),\n",
    "      Dropout(0.1),\n",
    "      Dense(32, activation='relu'),\n",
    "      Dropout(0.1),\n",
    "      Dense(64, activation='relu'),\n",
    "      Dropout(0.1),\n",
    "      Dense(output_units, activation='sigmoid')\n",
    "    ])\n",
    "  \n",
    "  def call(self, inputs):\n",
    "    encoded = self.encoder(inputs)\n",
    "    decoded = self.decoder(encoded)\n",
    "    return decoded\n",
    "  \n",
    "AE_model = AutoEncoder(output_units=AE_train_data.shape[1])\n",
    "# configurations of model\n",
    "AE_model.compile(loss='mae', optimizer='adam')\n",
    "\n",
    "ae_history = AE_model.fit(\n",
    "    AE_train_data,\n",
    "    AE_train_data,\n",
    "    epochs=60,\n",
    "    batch_size=256,\n",
    "    validation_split=0.1\n",
    ")"
   ]
  },
  {
   "cell_type": "code",
   "execution_count": 7,
   "id": "4228f30a",
   "metadata": {
    "scrolled": true
   },
   "outputs": [
    {
     "data": {
      "image/png": "[encoded data removed]",
      "text/plain": [
       "<Figure size 1120x480 with 1 Axes>"
      ]
     },
     "metadata": {},
     "output_type": "display_data"
    }
   ],
   "source": [
    "# plot the training losses\n",
    "fig, ax = plt.subplots(figsize=(14, 6), dpi=80)\n",
    "ax.plot(ae_history.history['loss'], 'b', label='Train', linewidth=2)\n",
    "ax.plot(ae_history.history['val_loss'], 'r', label='Validation', linewidth=2)\n",
    "ax.set_title('Model loss', fontsize=16)\n",
    "ax.set_ylabel('Loss (mae)')\n",
    "ax.set_xlabel('Epoch')\n",
    "ax.legend(loc='upper right')\n",
    "plt.show()"
   ]
  },
  {
   "cell_type": "code",
   "execution_count": 11,
   "id": "4cf377da",
   "metadata": {},
   "outputs": [
    {
     "name": "stdout",
     "output_type": "stream",
     "text": [
      "2648/2648 [==============================] - 3s 1ms/step\n"
     ]
    },
    {
     "data": {
      "text/plain": [
       "(0.0, 2.0)"
      ]
     },
     "execution_count": 11,
     "metadata": {},
     "output_type": "execute_result"
    },
    {
     "data": {
      "image/png": "[encoded data removed]",
      "text/plain": [
       "<Figure size 500x500 with 1 Axes>"
      ]
     },
     "metadata": {},
     "output_type": "display_data"
    }
   ],
   "source": [
    "# plot the loss distribution of the training set\n",
    "ae_X_pred = AE_model.predict(AE_train_data)\n",
    "ae_X_pred = pd.DataFrame(ae_X_pred, columns=AE_train_data.columns)\n",
    "ae_X_pred.index = AE_train_data.index\n",
    "\n",
    "ae_scored = pd.DataFrame(index=AE_train_data.index)\n",
    "ae_scored['Loss_mae'] = np.mean(np.abs(ae_X_pred-AE_train_data), axis = 1)\n",
    "\n",
    "\n",
    "sns.displot(ae_scored['Loss_mae'], color = 'blue');\n",
    "plt.xlim([0.0,2])"
   ]
  },
  {
   "cell_type": "code",
   "execution_count": 12,
   "id": "72ee6400",
   "metadata": {},
   "outputs": [
    {
     "name": "stdout",
     "output_type": "stream",
     "text": [
      "1565/1565 [==============================] - 2s 1ms/step\n",
      "        Loss_mae  Threshold  Anomaly\n",
      "102194  0.375359        0.8    False\n",
      "55639   0.267196        0.8    False\n",
      "23079   0.276215        0.8    False\n",
      "56983   0.506240        0.8    False\n",
      "84201   0.234355        0.8    False\n",
      "(6313, 3)\n",
      "13685\n"
     ]
    }
   ],
   "source": [
    "# calculate the loss on the test set\n",
    "ae_X_pred = AE_model.predict(Row_X_test)\n",
    "ae_X_pred = pd.DataFrame(ae_X_pred, columns=Row_X_test.columns)\n",
    "ae_X_pred.index = Row_X_test.index\n",
    "ae_scored = pd.DataFrame(index=Row_X_test.index)\n",
    "ae_scored['Loss_mae'] = np.mean(np.abs(ae_X_pred-Row_X_test), axis = 1)\n",
    "ae_scored['Threshold'] = 0.8\n",
    "ae_scored['Anomaly'] = ae_scored['Loss_mae'] > ae_scored['Threshold']\n",
    "print(ae_scored.head())\n",
    "\n",
    "print(ae_scored.loc[ae_scored['Anomaly']==True].shape)\n",
    "print(Row_y_test.sum())"
   ]
  },
  {
   "cell_type": "code",
   "execution_count": 13,
   "id": "c6e459a1",
   "metadata": {},
   "outputs": [
    {
     "name": "stdout",
     "output_type": "stream",
     "text": [
      "(6313, 3)\n",
      "              precision    recall  f1-score   support\n",
      "\n",
      "           0       0.74      0.88      0.80     36387\n",
      "           1       0.34      0.16      0.21     13685\n",
      "\n",
      "    accuracy                           0.69     50072\n",
      "   macro avg       0.54      0.52      0.51     50072\n",
      "weighted avg       0.63      0.69      0.64     50072\n",
      "\n"
     ]
    }
   ],
   "source": [
    "print(ae_scored.loc[ae_scored['Loss_mae'] > ae_scored['Threshold']].shape)\n",
    "\n",
    "ae_ypred=ae_scored['Anomaly']\n",
    "\n",
    "# y_test and ypred are the true and predicted labels, respectively\n",
    "ae_report = classification_report(Row_y_test, ae_ypred)\n",
    "\n",
    "print(ae_report)"
   ]
  },
  {
   "cell_type": "code",
   "execution_count": 14,
   "id": "822b75dd",
   "metadata": {},
   "outputs": [
    {
     "data": {
      "image/png": "[encoded data removed]",
      "text/plain": [
       "<Figure size 640x480 with 2 Axes>"
      ]
     },
     "metadata": {},
     "output_type": "display_data"
    }
   ],
   "source": [
    "# Compute the confusion matrix\n",
    "ae_cm = confusion_matrix(Row_y_test, ae_ypred)\n",
    "\n",
    "# Plot the confusion matrix\n",
    "sns.heatmap(ae_cm, annot=True, cmap='Blues', fmt='g')\n",
    "plt.xlabel('Predicted')\n",
    "plt.ylabel('True')\n",
    "plt.show()"
   ]
  },
  {
   "cell_type": "markdown",
   "id": "55f62c8f",
   "metadata": {},
   "source": [
    "### LSTM-AE "
   ]
  },
  {
   "cell_type": "code",
   "execution_count": 15,
   "id": "868c1315",
   "metadata": {},
   "outputs": [
    {
     "name": "stdout",
     "output_type": "stream",
     "text": [
      "Training data shape: (80855, 1, 48)\n",
      "Test data shape: (50072, 1, 48)\n"
     ]
    }
   ],
   "source": [
    " # reshape inputs for LSTM [samples, timesteps, features]\n",
    "X_Train = X_train_normal.values\n",
    "X_Test = X_test.values\n",
    "n_samples_train = X_Train.shape[0]\n",
    "n_features = X_Train.shape[1]\n",
    "n_timesteps = 1\n",
    "X_Train = X_Train.reshape(n_samples_train, n_timesteps, n_features)\n",
    "print(\"Training data shape:\", X_Train.shape)\n",
    "n_samples_test = X_Test.shape[0]\n",
    "X_Test = X_Test.reshape(n_samples_test, n_timesteps, n_features)\n",
    "print(\"Test data shape:\", X_Test.shape)"
   ]
  },
  {
   "cell_type": "code",
   "execution_count": 16,
   "id": "6f0fda30",
   "metadata": {},
   "outputs": [],
   "source": [
    "# define the autoencoder network model\n",
    "def lstm_autoencoder_model(X):\n",
    "    inputs = Input(shape=(X.shape[1], X.shape[2]))\n",
    "    L1 = LSTM(16, activation='relu', return_sequences=True,kernel_regularizer=regularizers.l2(0.00))(inputs)\n",
    "    L2 = LSTM(4, activation='relu', return_sequences=False)(L1)\n",
    "    L3 = RepeatVector(X.shape[1])(L2)\n",
    "    L4 = LSTM(4, activation='relu', return_sequences=True)(L3)\n",
    "    L5 = LSTM(16, activation='relu', return_sequences=True)(L4)\n",
    "    output = TimeDistributed(Dense(X.shape[2]))(L5)\n",
    "    model = Model(inputs=inputs, outputs=output)\n",
    "    return model"
   ]
  },
  {
   "cell_type": "code",
   "execution_count": 17,
   "id": "fd1cb03b",
   "metadata": {},
   "outputs": [
    {
     "name": "stdout",
     "output_type": "stream",
     "text": [
      "Model: \"model\"\n",
      "_________________________________________________________________\n",
      " Layer (type)                Output Shape              Param #   \n",
      "=================================================================\n",
      " input_1 (InputLayer)        [(None, 1, 48)]           0         \n",
      "                                                                 \n",
      " lstm (LSTM)                 (None, 1, 16)             4160      \n",
      "                                                                 \n",
      " lstm_1 (LSTM)               (None, 4)                 336       \n",
      "                                                                 \n",
      " repeat_vector (RepeatVector  (None, 1, 4)             0         \n",
      " )                                                               \n",
      "                                                                 \n",
      " lstm_2 (LSTM)               (None, 1, 4)              144       \n",
      "                                                                 \n",
      " lstm_3 (LSTM)               (None, 1, 16)             1344      \n",
      "                                                                 \n",
      " time_distributed (TimeDistr  (None, 1, 48)            816       \n",
      " ibuted)                                                         \n",
      "                                                                 \n",
      "=================================================================\n",
      "Total params: 6,800\n",
      "Trainable params: 6,800\n",
      "Non-trainable params: 0\n",
      "_________________________________________________________________\n"
     ]
    }
   ],
   "source": [
    "# create the autoencoder model\n",
    "lstmae_model = lstm_autoencoder_model(X_Train)\n",
    "lstmae_model.compile(optimizer='adam', loss='mae')\n",
    "lstmae_model.summary()"
   ]
  },
  {
   "cell_type": "code",
   "execution_count": 18,
   "id": "9bbd4bd4",
   "metadata": {},
   "outputs": [
    {
     "name": "stdout",
     "output_type": "stream",
     "text": [
      "Epoch 1/20\n",
      "143/143 [==============================] - 6s 10ms/step - loss: 0.6690 - val_loss: 0.5726\n",
      "Epoch 2/20\n",
      "143/143 [==============================] - 1s 5ms/step - loss: 0.5348 - val_loss: 0.4185\n",
      "Epoch 3/20\n",
      "143/143 [==============================] - 1s 5ms/step - loss: 0.3871 - val_loss: 0.3297\n",
      "Epoch 4/20\n",
      "143/143 [==============================] - 1s 5ms/step - loss: 0.3124 - val_loss: 0.2975\n",
      "Epoch 5/20\n",
      "143/143 [==============================] - 1s 5ms/step - loss: 0.2839 - val_loss: 0.2810\n",
      "Epoch 6/20\n",
      "143/143 [==============================] - 1s 5ms/step - loss: 0.2671 - val_loss: 0.2728\n",
      "Epoch 7/20\n",
      "143/143 [==============================] - 1s 5ms/step - loss: 0.2608 - val_loss: 0.2686\n",
      "Epoch 8/20\n",
      "143/143 [==============================] - 1s 5ms/step - loss: 0.2571 - val_loss: 0.2655\n",
      "Epoch 9/20\n",
      "143/143 [==============================] - 1s 6ms/step - loss: 0.2543 - val_loss: 0.2629\n",
      "Epoch 10/20\n",
      "143/143 [==============================] - 1s 6ms/step - loss: 0.2516 - val_loss: 0.2616\n",
      "Epoch 11/20\n",
      "143/143 [==============================] - 1s 5ms/step - loss: 0.2496 - val_loss: 0.2593\n",
      "Epoch 12/20\n",
      "143/143 [==============================] - 1s 5ms/step - loss: 0.2478 - val_loss: 0.2575\n",
      "Epoch 13/20\n",
      "143/143 [==============================] - 1s 5ms/step - loss: 0.2461 - val_loss: 0.2568\n",
      "Epoch 14/20\n",
      "143/143 [==============================] - 1s 5ms/step - loss: 0.2444 - val_loss: 0.2553\n",
      "Epoch 15/20\n",
      "143/143 [==============================] - 1s 5ms/step - loss: 0.2427 - val_loss: 0.2549\n",
      "Epoch 16/20\n",
      "143/143 [==============================] - 1s 6ms/step - loss: 0.2411 - val_loss: 0.2528\n",
      "Epoch 17/20\n",
      "143/143 [==============================] - 1s 5ms/step - loss: 0.2395 - val_loss: 0.2514\n",
      "Epoch 18/20\n",
      "143/143 [==============================] - 1s 6ms/step - loss: 0.2378 - val_loss: 0.2500\n",
      "Epoch 19/20\n",
      "143/143 [==============================] - 1s 6ms/step - loss: 0.2359 - val_loss: 0.2512\n",
      "Epoch 20/20\n",
      "143/143 [==============================] - 1s 6ms/step - loss: 0.2343 - val_loss: 0.2472\n"
     ]
    }
   ],
   "source": [
    "# fit the model to the data\n",
    "nb_epochs = 20\n",
    "batch_size = 512\n",
    "lstmae_history = lstmae_model.fit(X_Train, X_Train, epochs=nb_epochs, batch_size=batch_size,validation_split=0.1).history"
   ]
  },
  {
   "cell_type": "code",
   "execution_count": 19,
   "id": "f540abcb",
   "metadata": {},
   "outputs": [
    {
     "data": {
      "image/png": "[encoded data removed]",
      "text/plain": [
       "<Figure size 1120x480 with 1 Axes>"
      ]
     },
     "metadata": {},
     "output_type": "display_data"
    }
   ],
   "source": [
    "# plot the training losses\n",
    "fig, ax = plt.subplots(figsize=(14, 6), dpi=80)\n",
    "ax.plot(lstmae_history['loss'], 'b', label='Train', linewidth=2)\n",
    "ax.plot(lstmae_history['val_loss'], 'r', label='Validation', linewidth=2)\n",
    "ax.set_title('Model loss', fontsize=16)\n",
    "ax.set_ylabel('Loss (mae)')\n",
    "ax.set_xlabel('Epoch')\n",
    "ax.legend(loc='upper right')\n",
    "plt.show()"
   ]
  },
  {
   "cell_type": "code",
   "execution_count": 22,
   "id": "a10004f9",
   "metadata": {},
   "outputs": [
    {
     "name": "stdout",
     "output_type": "stream",
     "text": [
      "2527/2527 [==============================] - 4s 2ms/step\n"
     ]
    },
    {
     "data": {
      "text/plain": [
       "(0.0, 2.0)"
      ]
     },
     "execution_count": 22,
     "metadata": {},
     "output_type": "execute_result"
    },
    {
     "data": {
      "image/png": "[encoded data removed]",
      "text/plain": [
       "<Figure size 500x500 with 1 Axes>"
      ]
     },
     "metadata": {},
     "output_type": "display_data"
    }
   ],
   "source": [
    "# plot the loss distribution of the training set\n",
    "lstmae_X_pred = lstmae_model.predict(X_Train)\n",
    "lstmae_X_pred = lstmae_X_pred.reshape(lstmae_X_pred.shape[0], lstmae_X_pred.shape[2])\n",
    "lstmae_X_pred = pd.DataFrame(lstmae_X_pred, columns=X_train_normal.columns)\n",
    "lstmae_X_pred.index = X_train_normal.index\n",
    "\n",
    "lstmae_scored = pd.DataFrame(index=X_train_normal.index)\n",
    "Xtrain = X_Train.reshape(X_Train.shape[0], X_Train.shape[2])\n",
    "lstmae_scored['Loss_mae'] = np.mean(np.abs(lstmae_X_pred-Xtrain), axis = 1)\n",
    "\n",
    "\n",
    "sns.displot(lstmae_scored['Loss_mae'], color = 'blue');\n",
    "plt.xlim([0.0,2])"
   ]
  },
  {
   "cell_type": "code",
   "execution_count": 25,
   "id": "4b958a51",
   "metadata": {},
   "outputs": [
    {
     "name": "stdout",
     "output_type": "stream",
     "text": [
      "1565/1565 [==============================] - 2s 2ms/step\n",
      "(2786, 3)\n",
      "9806\n"
     ]
    }
   ],
   "source": [
    "# calculate the loss on the test set\n",
    "lstmae_X_pred = lstmae_model.predict(X_Test)\n",
    "lstmae_X_pred = lstmae_X_pred.reshape(lstmae_X_pred.shape[0], lstmae_X_pred.shape[2])\n",
    "lstmae_X_pred = pd.DataFrame(lstmae_X_pred, columns=X_test.columns)\n",
    "lstmae_X_pred.index = X_test.index\n",
    "lstmae_scored = pd.DataFrame(index=X_test.index)\n",
    "lstmae_Xtest = X_Test.reshape(X_Test.shape[0], X_Test.shape[2])\n",
    "lstmae_scored['Loss_mae'] = np.mean(np.abs(lstmae_X_pred-lstmae_Xtest), axis = 1)\n",
    "lstmae_scored['Threshold'] = 0.4\n",
    "lstmae_scored['Anomaly'] = lstmae_scored['Loss_mae'] > lstmae_scored['Threshold']\n",
    "lstmae_scored.head()\n",
    "\n",
    "print(lstmae_scored.loc[lstmae_scored['Anomaly']==True].shape)\n",
    "print(y_test.sum())\n"
   ]
  },
  {
   "cell_type": "code",
   "execution_count": 26,
   "id": "19e16324",
   "metadata": {},
   "outputs": [
    {
     "data": {
      "text/plain": [
       "<Axes: >"
      ]
     },
     "execution_count": 26,
     "metadata": {},
     "output_type": "execute_result"
    },
    {
     "data": {
      "image/png": "[encoded data removed]",
      "text/plain": [
       "<Figure size 1600x900 with 1 Axes>"
      ]
     },
     "metadata": {},
     "output_type": "display_data"
    }
   ],
   "source": [
    "# plot bearing failure time plot\n",
    "lstmae_scored.plot(logy=True, figsize=(16,9), color=['blue','red'])"
   ]
  },
  {
   "cell_type": "code",
   "execution_count": 29,
   "id": "97c12304",
   "metadata": {},
   "outputs": [
    {
     "name": "stdout",
     "output_type": "stream",
     "text": [
      "(2786, 3)\n",
      "              precision    recall  f1-score   support\n",
      "\n",
      "           0       0.81      0.95      0.88     40266\n",
      "           1       0.30      0.09      0.13      9806\n",
      "\n",
      "    accuracy                           0.78     50072\n",
      "   macro avg       0.56      0.52      0.50     50072\n",
      "weighted avg       0.71      0.78      0.73     50072\n",
      "\n"
     ]
    }
   ],
   "source": [
    "print(lstmae_scored.loc[lstmae_scored['Loss_mae'] > lstmae_scored['Threshold']].shape)\n",
    "\n",
    "lstmae_ypred=lstmae_scored['Anomaly']\n",
    "\n",
    "# y_test and ypred are the true and predicted labels, respectively\n",
    "report = classification_report(y_test, lstmae_ypred)\n",
    "\n",
    "print(report)"
   ]
  },
  {
   "cell_type": "markdown",
   "id": "ea7fdffc",
   "metadata": {},
   "source": [
    "### CNN "
   ]
  },
  {
   "cell_type": "code",
   "execution_count": 30,
   "id": "f1cd1136",
   "metadata": {},
   "outputs": [],
   "source": [
    "# Split the data into X (features) and y (labels/target)\n",
    "#cnn_X_train, cnn_y_train = train_data.drop('anomaly', axis=1), train_data['anomaly']\n",
    "#cnn_X_test, cnn_y_test = test_data.drop('anomaly', axis=1), test_data['anomaly']\n",
    "\n",
    "cnn_X_train = Row_X_train\n",
    "cnn_y_train = Row_y_train\n",
    "cnn_X_test = Row_X_test\n",
    "cnn_y_test = Row_y_test\n",
    "\n",
    "# Reshape the data for CNN input\n",
    "cnn_X_train = np.reshape(cnn_X_train.values, (cnn_X_train.shape[0], cnn_X_train.shape[1], 1))\n",
    "cnn_X_test = np.reshape(cnn_X_test.values, (cnn_X_test.shape[0], cnn_X_test.shape[1], 1))\n"
   ]
  },
  {
   "cell_type": "code",
   "execution_count": 31,
   "id": "97a1a21a",
   "metadata": {},
   "outputs": [],
   "source": [
    "# Define the CNN model\n",
    "cnn_model = Sequential()\n",
    "cnn_model.add(Conv1D(filters=64, kernel_size=3, activation='relu', input_shape=(cnn_X_train.shape[1], cnn_X_train.shape[2])))\n",
    "cnn_model.add(MaxPooling1D(pool_size=2))\n",
    "cnn_model.add(Conv1D(filters=32, kernel_size=3, activation='relu'))\n",
    "cnn_model.add(MaxPooling1D(pool_size=2))\n",
    "cnn_model.add(Flatten())\n",
    "cnn_model.add(Dense(units=128, activation='relu'))\n",
    "cnn_model.add(Dropout(0.5))\n",
    "cnn_model.add(Dense(units=1, activation='sigmoid'))"
   ]
  },
  {
   "cell_type": "code",
   "execution_count": 32,
   "id": "3243e489",
   "metadata": {},
   "outputs": [
    {
     "name": "stdout",
     "output_type": "stream",
     "text": [
      "Epoch 1/100\n"
     ]
    },
    {
     "name": "stderr",
     "output_type": "stream",
     "text": [
      "C:\\Users\\dell\\anaconda3\\envs\\tf\\lib\\site-packages\\keras\\optimizers\\optimizer_v2\\adam.py:114: UserWarning: The `lr` argument is deprecated, use `learning_rate` instead.\n",
      "  super().__init__(name, **kwargs)\n"
     ]
    },
    {
     "name": "stdout",
     "output_type": "stream",
     "text": [
      "1826/1826 [==============================] - 8s 4ms/step - loss: 0.5277 - accuracy: 0.7351\n",
      "Epoch 2/100\n",
      "1826/1826 [==============================] - 8s 4ms/step - loss: 0.4807 - accuracy: 0.7661\n",
      "Epoch 3/100\n",
      "1826/1826 [==============================] - 8s 4ms/step - loss: 0.4531 - accuracy: 0.7865\n",
      "Epoch 4/100\n",
      "1826/1826 [==============================] - 10s 6ms/step - loss: 0.4338 - accuracy: 0.7982\n",
      "Epoch 5/100\n",
      "1826/1826 [==============================] - 12s 6ms/step - loss: 0.4191 - accuracy: 0.8080\n",
      "Epoch 6/100\n",
      "1826/1826 [==============================] - 11s 6ms/step - loss: 0.4067 - accuracy: 0.8151\n",
      "Epoch 7/100\n",
      "1826/1826 [==============================] - 12s 6ms/step - loss: 0.3928 - accuracy: 0.8233\n",
      "Epoch 8/100\n",
      "1826/1826 [==============================] - 12s 6ms/step - loss: 0.3828 - accuracy: 0.8283\n",
      "Epoch 9/100\n",
      "1826/1826 [==============================] - 12s 6ms/step - loss: 0.3754 - accuracy: 0.8329\n",
      "Epoch 10/100\n",
      "1826/1826 [==============================] - 11s 6ms/step - loss: 0.3693 - accuracy: 0.8359\n",
      "Epoch 11/100\n",
      "1826/1826 [==============================] - 12s 6ms/step - loss: 0.3597 - accuracy: 0.8401\n",
      "Epoch 12/100\n",
      "1826/1826 [==============================] - 12s 6ms/step - loss: 0.3539 - accuracy: 0.8435\n",
      "Epoch 13/100\n",
      "1826/1826 [==============================] - 12s 6ms/step - loss: 0.3485 - accuracy: 0.8475\n",
      "Epoch 14/100\n",
      "1826/1826 [==============================] - 12s 6ms/step - loss: 0.3425 - accuracy: 0.8491\n",
      "Epoch 15/100\n",
      "1826/1826 [==============================] - 12s 6ms/step - loss: 0.3360 - accuracy: 0.8530\n",
      "Epoch 16/100\n",
      "1826/1826 [==============================] - 12s 7ms/step - loss: 0.3319 - accuracy: 0.8551\n",
      "Epoch 17/100\n",
      "1826/1826 [==============================] - 12s 6ms/step - loss: 0.3290 - accuracy: 0.8571\n",
      "Epoch 18/100\n",
      "1826/1826 [==============================] - 12s 6ms/step - loss: 0.3233 - accuracy: 0.8588\n",
      "Epoch 19/100\n",
      "1826/1826 [==============================] - 12s 6ms/step - loss: 0.3185 - accuracy: 0.8609\n",
      "Epoch 20/100\n",
      "1826/1826 [==============================] - 12s 6ms/step - loss: 0.3137 - accuracy: 0.8630\n",
      "Epoch 21/100\n",
      "1826/1826 [==============================] - 12s 6ms/step - loss: 0.3119 - accuracy: 0.8641\n",
      "Epoch 22/100\n",
      "1826/1826 [==============================] - 12s 6ms/step - loss: 0.3100 - accuracy: 0.8656\n",
      "Epoch 23/100\n",
      "1826/1826 [==============================] - 12s 7ms/step - loss: 0.3039 - accuracy: 0.8668\n",
      "Epoch 24/100\n",
      "1826/1826 [==============================] - 12s 7ms/step - loss: 0.2999 - accuracy: 0.8705\n",
      "Epoch 25/100\n",
      "1826/1826 [==============================] - 12s 6ms/step - loss: 0.2985 - accuracy: 0.8703\n",
      "Epoch 26/100\n",
      "1826/1826 [==============================] - 12s 7ms/step - loss: 0.2942 - accuracy: 0.8715\n",
      "Epoch 27/100\n",
      "1826/1826 [==============================] - 12s 7ms/step - loss: 0.2927 - accuracy: 0.8720\n",
      "Epoch 28/100\n",
      "1826/1826 [==============================] - 12s 7ms/step - loss: 0.2901 - accuracy: 0.8747\n",
      "Epoch 29/100\n",
      "1826/1826 [==============================] - 12s 6ms/step - loss: 0.2878 - accuracy: 0.8754\n",
      "Epoch 30/100\n",
      "1826/1826 [==============================] - 12s 7ms/step - loss: 0.2833 - accuracy: 0.8767\n",
      "Epoch 31/100\n",
      "1826/1826 [==============================] - 12s 7ms/step - loss: 0.2834 - accuracy: 0.8777\n",
      "Epoch 32/100\n",
      "1826/1826 [==============================] - 12s 7ms/step - loss: 0.2816 - accuracy: 0.8775\n",
      "Epoch 33/100\n",
      "1826/1826 [==============================] - 12s 6ms/step - loss: 0.2808 - accuracy: 0.8787\n",
      "Epoch 34/100\n",
      "1826/1826 [==============================] - 12s 7ms/step - loss: 0.2762 - accuracy: 0.8796\n",
      "Epoch 35/100\n",
      "1826/1826 [==============================] - 12s 7ms/step - loss: 0.2741 - accuracy: 0.8808\n",
      "Epoch 36/100\n",
      "1826/1826 [==============================] - 12s 7ms/step - loss: 0.2754 - accuracy: 0.8810\n",
      "Epoch 37/100\n",
      "1826/1826 [==============================] - 12s 7ms/step - loss: 0.2723 - accuracy: 0.8818\n",
      "Epoch 38/100\n",
      "1826/1826 [==============================] - 12s 7ms/step - loss: 0.2686 - accuracy: 0.8837\n",
      "Epoch 39/100\n",
      "1826/1826 [==============================] - 12s 7ms/step - loss: 0.2684 - accuracy: 0.8829\n",
      "Epoch 40/100\n",
      "1826/1826 [==============================] - 12s 7ms/step - loss: 0.2675 - accuracy: 0.8837\n",
      "Epoch 41/100\n",
      "1826/1826 [==============================] - 12s 6ms/step - loss: 0.2661 - accuracy: 0.8850\n",
      "Epoch 42/100\n",
      "1826/1826 [==============================] - 12s 7ms/step - loss: 0.2629 - accuracy: 0.8849\n",
      "Epoch 43/100\n",
      "1826/1826 [==============================] - 12s 6ms/step - loss: 0.2637 - accuracy: 0.8856\n",
      "Epoch 44/100\n",
      "1826/1826 [==============================] - 12s 6ms/step - loss: 0.2600 - accuracy: 0.8870\n",
      "Epoch 45/100\n",
      "1826/1826 [==============================] - 12s 6ms/step - loss: 0.2604 - accuracy: 0.8879\n",
      "Epoch 46/100\n",
      "1826/1826 [==============================] - 12s 6ms/step - loss: 0.2586 - accuracy: 0.8867\n",
      "Epoch 47/100\n",
      "1826/1826 [==============================] - 12s 7ms/step - loss: 0.2601 - accuracy: 0.8864\n",
      "Epoch 48/100\n",
      "1826/1826 [==============================] - 12s 7ms/step - loss: 0.2560 - accuracy: 0.8877\n",
      "Epoch 49/100\n",
      "1826/1826 [==============================] - 12s 6ms/step - loss: 0.2559 - accuracy: 0.8889\n",
      "Epoch 50/100\n",
      "1826/1826 [==============================] - 12s 7ms/step - loss: 0.2540 - accuracy: 0.8902\n",
      "Epoch 51/100\n",
      "1826/1826 [==============================] - 12s 7ms/step - loss: 0.2530 - accuracy: 0.8898\n",
      "Epoch 52/100\n",
      "1826/1826 [==============================] - 12s 6ms/step - loss: 0.2504 - accuracy: 0.8910\n",
      "Epoch 53/100\n",
      "1826/1826 [==============================] - 12s 6ms/step - loss: 0.2512 - accuracy: 0.8898\n",
      "Epoch 54/100\n",
      "1826/1826 [==============================] - 12s 7ms/step - loss: 0.2512 - accuracy: 0.8905\n",
      "Epoch 55/100\n",
      "1826/1826 [==============================] - 12s 6ms/step - loss: 0.2483 - accuracy: 0.8921\n",
      "Epoch 56/100\n",
      "1826/1826 [==============================] - 12s 6ms/step - loss: 0.2471 - accuracy: 0.8918\n",
      "Epoch 57/100\n",
      "1826/1826 [==============================] - 12s 7ms/step - loss: 0.2473 - accuracy: 0.8913\n",
      "Epoch 58/100\n",
      "1826/1826 [==============================] - 13s 7ms/step - loss: 0.2467 - accuracy: 0.8919\n",
      "Epoch 59/100\n",
      "1826/1826 [==============================] - 13s 7ms/step - loss: 0.2452 - accuracy: 0.8927\n",
      "Epoch 60/100\n",
      "1826/1826 [==============================] - 12s 6ms/step - loss: 0.2432 - accuracy: 0.8932\n",
      "Epoch 61/100\n",
      "1826/1826 [==============================] - 12s 7ms/step - loss: 0.2421 - accuracy: 0.8940\n",
      "Epoch 62/100\n",
      "1826/1826 [==============================] - 12s 7ms/step - loss: 0.2415 - accuracy: 0.8940\n",
      "Epoch 63/100\n",
      "1826/1826 [==============================] - 12s 6ms/step - loss: 0.2413 - accuracy: 0.8944\n",
      "Epoch 64/100\n",
      "1826/1826 [==============================] - 12s 7ms/step - loss: 0.2395 - accuracy: 0.8951\n",
      "Epoch 65/100\n",
      "1826/1826 [==============================] - 12s 7ms/step - loss: 0.2386 - accuracy: 0.8959\n",
      "Epoch 66/100\n",
      "1826/1826 [==============================] - 13s 7ms/step - loss: 0.2395 - accuracy: 0.8955\n",
      "Epoch 67/100\n",
      "1826/1826 [==============================] - 13s 7ms/step - loss: 0.2374 - accuracy: 0.8961\n",
      "Epoch 68/100\n",
      "1826/1826 [==============================] - 13s 7ms/step - loss: 0.2356 - accuracy: 0.8966\n",
      "Epoch 69/100\n",
      "1826/1826 [==============================] - 12s 7ms/step - loss: 0.2347 - accuracy: 0.8974\n",
      "Epoch 70/100\n",
      "1826/1826 [==============================] - 12s 7ms/step - loss: 0.2365 - accuracy: 0.8964\n",
      "Epoch 71/100\n",
      "1826/1826 [==============================] - 12s 7ms/step - loss: 0.2326 - accuracy: 0.8983\n",
      "Epoch 72/100\n",
      "1826/1826 [==============================] - 12s 7ms/step - loss: 0.2338 - accuracy: 0.8975\n",
      "Epoch 73/100\n",
      "1826/1826 [==============================] - 12s 6ms/step - loss: 0.2308 - accuracy: 0.8996\n",
      "Epoch 74/100\n",
      "1826/1826 [==============================] - 12s 7ms/step - loss: 0.2404 - accuracy: 0.8970\n",
      "Epoch 75/100\n",
      "1826/1826 [==============================] - 12s 7ms/step - loss: 0.2318 - accuracy: 0.8983\n",
      "Epoch 76/100\n",
      "1826/1826 [==============================] - 12s 7ms/step - loss: 0.2313 - accuracy: 0.8977\n",
      "Epoch 77/100\n",
      "1826/1826 [==============================] - 12s 6ms/step - loss: 0.2307 - accuracy: 0.8977\n",
      "Epoch 78/100\n",
      "1826/1826 [==============================] - 12s 7ms/step - loss: 0.2290 - accuracy: 0.9002\n",
      "Epoch 79/100\n"
     ]
    },
    {
     "name": "stdout",
     "output_type": "stream",
     "text": [
      "1826/1826 [==============================] - 12s 6ms/step - loss: 0.2286 - accuracy: 0.8998\n",
      "Epoch 80/100\n",
      "1826/1826 [==============================] - 12s 6ms/step - loss: 0.2284 - accuracy: 0.8998\n",
      "Epoch 81/100\n",
      "1826/1826 [==============================] - 11s 6ms/step - loss: 0.2276 - accuracy: 0.8993\n",
      "Epoch 82/100\n",
      "1826/1826 [==============================] - 12s 6ms/step - loss: 0.2266 - accuracy: 0.9003\n",
      "Epoch 83/100\n",
      "1826/1826 [==============================] - 12s 6ms/step - loss: 0.2246 - accuracy: 0.9017\n",
      "Epoch 84/100\n",
      "1826/1826 [==============================] - 12s 6ms/step - loss: 0.2275 - accuracy: 0.9006\n",
      "Epoch 85/100\n",
      "1826/1826 [==============================] - 12s 6ms/step - loss: 0.2258 - accuracy: 0.9007\n",
      "Epoch 86/100\n",
      "1826/1826 [==============================] - 12s 6ms/step - loss: 0.2245 - accuracy: 0.9006\n",
      "Epoch 87/100\n",
      "1826/1826 [==============================] - 12s 6ms/step - loss: 0.2239 - accuracy: 0.9032\n",
      "Epoch 88/100\n",
      "1826/1826 [==============================] - 11s 6ms/step - loss: 0.2240 - accuracy: 0.9018\n",
      "Epoch 89/100\n",
      "1826/1826 [==============================] - 12s 6ms/step - loss: 0.2219 - accuracy: 0.9025\n",
      "Epoch 90/100\n",
      "1826/1826 [==============================] - 12s 6ms/step - loss: 0.2228 - accuracy: 0.9023\n",
      "Epoch 91/100\n",
      "1826/1826 [==============================] - 12s 6ms/step - loss: 0.2245 - accuracy: 0.9007\n",
      "Epoch 92/100\n",
      "1826/1826 [==============================] - 11s 6ms/step - loss: 0.2195 - accuracy: 0.9038\n",
      "Epoch 93/100\n",
      "1826/1826 [==============================] - 12s 6ms/step - loss: 0.2196 - accuracy: 0.9037\n",
      "Epoch 94/100\n",
      "1826/1826 [==============================] - 12s 6ms/step - loss: 0.2193 - accuracy: 0.9032\n",
      "Epoch 95/100\n",
      "1826/1826 [==============================] - 11s 6ms/step - loss: 0.2193 - accuracy: 0.9016\n",
      "Epoch 96/100\n",
      "1826/1826 [==============================] - 12s 6ms/step - loss: 0.2193 - accuracy: 0.9036\n",
      "Epoch 97/100\n",
      "1826/1826 [==============================] - 12s 6ms/step - loss: 0.2187 - accuracy: 0.9046\n",
      "Epoch 98/100\n",
      "1826/1826 [==============================] - 12s 6ms/step - loss: 0.2156 - accuracy: 0.9046\n",
      "Epoch 99/100\n",
      "1826/1826 [==============================] - 12s 6ms/step - loss: 0.2179 - accuracy: 0.9045\n",
      "Epoch 100/100\n",
      "1826/1826 [==============================] - 12s 6ms/step - loss: 0.2145 - accuracy: 0.9049\n"
     ]
    },
    {
     "data": {
      "text/plain": [
       "<keras.callbacks.History at 0x1f426ef51b0>"
      ]
     },
     "execution_count": 32,
     "metadata": {},
     "output_type": "execute_result"
    }
   ],
   "source": [
    "# Compile the model with binary cross-entropy loss and Adam optimizer\n",
    "cnn_model.compile(loss='binary_crossentropy', optimizer=Adam(lr=0.001), metrics=['accuracy'])\n",
    "\n",
    "# Train the CNN model on the training data\n",
    "cnn_model.fit(cnn_X_train, cnn_y_train, epochs=100, batch_size=64)"
   ]
  },
  {
   "cell_type": "code",
   "execution_count": 33,
   "id": "905c30ae",
   "metadata": {},
   "outputs": [
    {
     "name": "stdout",
     "output_type": "stream",
     "text": [
      "1565/1565 [==============================] - 4s 2ms/step\n",
      "1565/1565 [==============================] - 4s 3ms/step - loss: 0.2196 - accuracy: 0.9147\n",
      "Testing Accuracy: 0.9146628975868225\n",
      "Testing metrics:               precision    recall  f1-score   support\n",
      "\n",
      "           0       0.94      0.94      0.94     36387\n",
      "           1       0.85      0.84      0.85     13685\n",
      "\n",
      "    accuracy                           0.92     50072\n",
      "   macro avg       0.90      0.89      0.89     50072\n",
      "weighted avg       0.92      0.92      0.92     50072\n",
      "\n",
      "Number of test anomalies: 13685\n",
      "Number of predicted anomalies: 13545\n"
     ]
    }
   ],
   "source": [
    "# Predict the labels of the test data\n",
    "cnn_y_pred = cnn_model.predict(cnn_X_test)\n",
    "\n",
    "# Convert the predicted probabilities to class labels\n",
    "cnn_y_pred = pd.Series(np.ravel(cnn_y_pred))\n",
    "\n",
    "# Evaluate the model on the testing set\n",
    "cnn_loss, cnn_accuracy = cnn_model.evaluate(cnn_X_test, cnn_y_test)\n",
    "print('Testing Accuracy:', cnn_accuracy)\n",
    "\n",
    "# Convert the predicted probabilities to class labels\n",
    "cnn_y_pred = pd.Series(np.ravel(cnn_y_pred))\n",
    "cnn_y_pred = (cnn_y_pred >= 0.4)\n",
    "\n",
    "# Compute the recall score\n",
    "cnn_report = classification_report(cnn_y_test,cnn_y_pred)\n",
    "\n",
    "print('Testing metrics:',cnn_report)\n",
    "\n",
    "print('Number of test anomalies:',cnn_y_test.sum())\n",
    "print('Number of predicted anomalies:',cnn_y_pred.sum())"
   ]
  },
  {
   "cell_type": "code",
   "execution_count": 34,
   "id": "c56d24de",
   "metadata": {},
   "outputs": [
    {
     "data": {
      "image/png": "[encoded data removed]",
      "text/plain": [
       "<Figure size 640x480 with 2 Axes>"
      ]
     },
     "metadata": {},
     "output_type": "display_data"
    }
   ],
   "source": [
    "# Compute the confusion matrix\n",
    "cnn_cm = confusion_matrix(cnn_y_test,cnn_y_pred)\n",
    "\n",
    "# Plot the confusion matrix\n",
    "sns.heatmap(cnn_cm, annot=True, cmap='Blues', fmt='g')\n",
    "plt.xlabel('Predicted')\n",
    "plt.ylabel('True')\n",
    "plt.show()"
   ]
  },
  {
   "cell_type": "markdown",
   "id": "a79fe942",
   "metadata": {},
   "source": [
    "### ANN"
   ]
  },
  {
   "cell_type": "code",
   "execution_count": 35,
   "id": "c1071991",
   "metadata": {},
   "outputs": [],
   "source": [
    "# Build the ANN model\n",
    "ann_model = Sequential()\n",
    "ann_model.add(Dense(units=64, activation='relu', input_dim=cnn_X_train.shape[1]))\n",
    "ann_model.add(Dropout(0.2))\n",
    "ann_model.add(Dense(units=32, activation='relu'))\n",
    "ann_model.add(Dropout(0.2))\n",
    "ann_model.add(Dense(units=1, activation='sigmoid'))"
   ]
  },
  {
   "cell_type": "code",
   "execution_count": 36,
   "id": "511b2050",
   "metadata": {
    "scrolled": true
   },
   "outputs": [
    {
     "name": "stdout",
     "output_type": "stream",
     "text": [
      "Epoch 1/100\n",
      "1826/1826 [==============================] - 6s 3ms/step - loss: 0.5347 - accuracy: 0.7331\n",
      "Epoch 2/100\n",
      "1826/1826 [==============================] - 5s 3ms/step - loss: 0.4896 - accuracy: 0.7576\n",
      "Epoch 3/100\n",
      "1826/1826 [==============================] - 6s 3ms/step - loss: 0.4666 - accuracy: 0.7736\n",
      "Epoch 4/100\n",
      "1826/1826 [==============================] - 6s 3ms/step - loss: 0.4519 - accuracy: 0.7839\n",
      "Epoch 5/100\n",
      "1826/1826 [==============================] - 6s 3ms/step - loss: 0.4386 - accuracy: 0.7944\n",
      "Epoch 6/100\n",
      "1826/1826 [==============================] - 6s 3ms/step - loss: 0.4299 - accuracy: 0.8006\n",
      "Epoch 7/100\n",
      "1826/1826 [==============================] - 6s 3ms/step - loss: 0.4246 - accuracy: 0.8039\n",
      "Epoch 8/100\n",
      "1826/1826 [==============================] - 6s 3ms/step - loss: 0.4173 - accuracy: 0.8084\n",
      "Epoch 9/100\n",
      "1826/1826 [==============================] - 6s 3ms/step - loss: 0.4127 - accuracy: 0.8105\n",
      "Epoch 10/100\n",
      "1826/1826 [==============================] - 5s 3ms/step - loss: 0.4075 - accuracy: 0.8141\n",
      "Epoch 11/100\n",
      "1826/1826 [==============================] - 6s 3ms/step - loss: 0.4038 - accuracy: 0.8156\n",
      "Epoch 12/100\n",
      "1826/1826 [==============================] - 5s 3ms/step - loss: 0.4010 - accuracy: 0.8187\n",
      "Epoch 13/100\n",
      "1826/1826 [==============================] - 5s 3ms/step - loss: 0.3961 - accuracy: 0.8194\n",
      "Epoch 14/100\n",
      "1826/1826 [==============================] - 6s 3ms/step - loss: 0.3936 - accuracy: 0.8217\n",
      "Epoch 15/100\n",
      "1826/1826 [==============================] - 6s 3ms/step - loss: 0.3916 - accuracy: 0.8230\n",
      "Epoch 16/100\n",
      "1826/1826 [==============================] - 6s 3ms/step - loss: 0.3887 - accuracy: 0.8251\n",
      "Epoch 17/100\n",
      "1826/1826 [==============================] - 6s 3ms/step - loss: 0.3872 - accuracy: 0.8254\n",
      "Epoch 18/100\n",
      "1826/1826 [==============================] - 5s 3ms/step - loss: 0.3849 - accuracy: 0.8279\n",
      "Epoch 19/100\n",
      "1826/1826 [==============================] - 5s 3ms/step - loss: 0.3826 - accuracy: 0.8295\n",
      "Epoch 20/100\n",
      "1826/1826 [==============================] - 6s 3ms/step - loss: 0.3805 - accuracy: 0.8296\n",
      "Epoch 21/100\n",
      "1826/1826 [==============================] - 5s 3ms/step - loss: 0.3780 - accuracy: 0.8302\n",
      "Epoch 22/100\n",
      "1826/1826 [==============================] - 5s 3ms/step - loss: 0.3764 - accuracy: 0.8333\n",
      "Epoch 23/100\n",
      "1826/1826 [==============================] - 6s 3ms/step - loss: 0.3756 - accuracy: 0.8324\n",
      "Epoch 24/100\n",
      "1826/1826 [==============================] - 5s 3ms/step - loss: 0.3722 - accuracy: 0.8344\n",
      "Epoch 25/100\n",
      "1826/1826 [==============================] - 5s 3ms/step - loss: 0.3719 - accuracy: 0.8359\n",
      "Epoch 26/100\n",
      "1826/1826 [==============================] - 6s 3ms/step - loss: 0.3711 - accuracy: 0.8355\n",
      "Epoch 27/100\n",
      "1826/1826 [==============================] - 5s 3ms/step - loss: 0.3710 - accuracy: 0.8355\n",
      "Epoch 28/100\n",
      "1826/1826 [==============================] - 5s 3ms/step - loss: 0.3676 - accuracy: 0.8367\n",
      "Epoch 29/100\n",
      "1826/1826 [==============================] - 6s 3ms/step - loss: 0.3669 - accuracy: 0.8375\n",
      "Epoch 30/100\n",
      "1826/1826 [==============================] - 5s 3ms/step - loss: 0.3671 - accuracy: 0.8374\n",
      "Epoch 31/100\n",
      "1826/1826 [==============================] - 5s 3ms/step - loss: 0.3649 - accuracy: 0.8376\n",
      "Epoch 32/100\n",
      "1826/1826 [==============================] - 6s 3ms/step - loss: 0.3639 - accuracy: 0.8394\n",
      "Epoch 33/100\n",
      "1826/1826 [==============================] - 5s 3ms/step - loss: 0.3643 - accuracy: 0.8383\n",
      "Epoch 34/100\n",
      "1826/1826 [==============================] - 6s 3ms/step - loss: 0.3601 - accuracy: 0.8401\n",
      "Epoch 35/100\n",
      "1826/1826 [==============================] - 6s 3ms/step - loss: 0.3604 - accuracy: 0.8395\n",
      "Epoch 36/100\n",
      "1826/1826 [==============================] - 5s 3ms/step - loss: 0.3601 - accuracy: 0.8421\n",
      "Epoch 37/100\n",
      "1826/1826 [==============================] - 6s 3ms/step - loss: 0.3596 - accuracy: 0.8428\n",
      "Epoch 38/100\n",
      "1826/1826 [==============================] - 5s 3ms/step - loss: 0.3578 - accuracy: 0.8415\n",
      "Epoch 39/100\n",
      "1826/1826 [==============================] - 5s 3ms/step - loss: 0.3569 - accuracy: 0.8432\n",
      "Epoch 40/100\n",
      "1826/1826 [==============================] - 6s 3ms/step - loss: 0.3573 - accuracy: 0.8422\n",
      "Epoch 41/100\n",
      "1826/1826 [==============================] - 5s 3ms/step - loss: 0.3544 - accuracy: 0.8443\n",
      "Epoch 42/100\n",
      "1826/1826 [==============================] - 6s 3ms/step - loss: 0.3563 - accuracy: 0.8431\n",
      "Epoch 43/100\n",
      "1826/1826 [==============================] - 6s 3ms/step - loss: 0.3542 - accuracy: 0.8439\n",
      "Epoch 44/100\n",
      "1826/1826 [==============================] - 5s 3ms/step - loss: 0.3530 - accuracy: 0.8446\n",
      "Epoch 45/100\n",
      "1826/1826 [==============================] - 5s 3ms/step - loss: 0.3524 - accuracy: 0.8459\n",
      "Epoch 46/100\n",
      "1826/1826 [==============================] - 6s 3ms/step - loss: 0.3533 - accuracy: 0.8444\n",
      "Epoch 47/100\n",
      "1826/1826 [==============================] - 5s 3ms/step - loss: 0.3520 - accuracy: 0.8448\n",
      "Epoch 48/100\n",
      "1826/1826 [==============================] - 5s 3ms/step - loss: 0.3528 - accuracy: 0.8444\n",
      "Epoch 49/100\n",
      "1826/1826 [==============================] - 6s 3ms/step - loss: 0.3528 - accuracy: 0.8446\n",
      "Epoch 50/100\n",
      "1826/1826 [==============================] - 5s 3ms/step - loss: 0.3494 - accuracy: 0.8468\n",
      "Epoch 51/100\n",
      "1826/1826 [==============================] - 5s 3ms/step - loss: 0.3511 - accuracy: 0.8460\n",
      "Epoch 52/100\n",
      "1826/1826 [==============================] - 6s 3ms/step - loss: 0.3509 - accuracy: 0.8460\n",
      "Epoch 53/100\n",
      "1826/1826 [==============================] - 6s 3ms/step - loss: 0.3492 - accuracy: 0.8464\n",
      "Epoch 54/100\n",
      "1826/1826 [==============================] - 5s 3ms/step - loss: 0.3498 - accuracy: 0.8473\n",
      "Epoch 55/100\n",
      "1826/1826 [==============================] - 6s 3ms/step - loss: 0.3470 - accuracy: 0.8487\n",
      "Epoch 56/100\n",
      "1826/1826 [==============================] - 6s 3ms/step - loss: 0.3467 - accuracy: 0.8483\n",
      "Epoch 57/100\n",
      "1826/1826 [==============================] - 6s 3ms/step - loss: 0.3472 - accuracy: 0.8488\n",
      "Epoch 58/100\n",
      "1826/1826 [==============================] - 6s 3ms/step - loss: 0.3449 - accuracy: 0.8491\n",
      "Epoch 59/100\n",
      "1826/1826 [==============================] - 5s 3ms/step - loss: 0.3456 - accuracy: 0.8488\n",
      "Epoch 60/100\n",
      "1826/1826 [==============================] - 6s 3ms/step - loss: 0.3448 - accuracy: 0.8491\n",
      "Epoch 61/100\n",
      "1826/1826 [==============================] - 6s 3ms/step - loss: 0.3436 - accuracy: 0.8512\n",
      "Epoch 62/100\n",
      "1826/1826 [==============================] - 5s 3ms/step - loss: 0.3444 - accuracy: 0.8510\n",
      "Epoch 63/100\n",
      "1826/1826 [==============================] - 6s 3ms/step - loss: 0.3442 - accuracy: 0.8501\n",
      "Epoch 64/100\n",
      "1826/1826 [==============================] - 5s 3ms/step - loss: 0.3412 - accuracy: 0.8513\n",
      "Epoch 65/100\n",
      "1826/1826 [==============================] - 5s 3ms/step - loss: 0.3424 - accuracy: 0.8502\n",
      "Epoch 66/100\n",
      "1826/1826 [==============================] - 6s 3ms/step - loss: 0.3423 - accuracy: 0.8512\n",
      "Epoch 67/100\n",
      "1826/1826 [==============================] - 5s 3ms/step - loss: 0.3407 - accuracy: 0.8528\n",
      "Epoch 68/100\n",
      "1826/1826 [==============================] - 5s 3ms/step - loss: 0.3415 - accuracy: 0.8511\n",
      "Epoch 69/100\n",
      "1826/1826 [==============================] - 6s 3ms/step - loss: 0.3417 - accuracy: 0.8513\n",
      "Epoch 70/100\n",
      "1826/1826 [==============================] - 5s 3ms/step - loss: 0.3425 - accuracy: 0.8510\n",
      "Epoch 71/100\n",
      "1826/1826 [==============================] - 5s 3ms/step - loss: 0.3421 - accuracy: 0.8511\n",
      "Epoch 72/100\n",
      "1826/1826 [==============================] - 6s 3ms/step - loss: 0.3413 - accuracy: 0.8514\n",
      "Epoch 73/100\n",
      "1826/1826 [==============================] - 6s 3ms/step - loss: 0.3390 - accuracy: 0.8540\n",
      "Epoch 74/100\n",
      "1826/1826 [==============================] - 6s 3ms/step - loss: 0.3380 - accuracy: 0.8526\n",
      "Epoch 75/100\n",
      "1826/1826 [==============================] - 6s 3ms/step - loss: 0.3384 - accuracy: 0.8540\n",
      "Epoch 76/100\n",
      "1826/1826 [==============================] - 6s 3ms/step - loss: 0.3387 - accuracy: 0.8533\n",
      "Epoch 77/100\n",
      "1826/1826 [==============================] - 6s 3ms/step - loss: 0.3369 - accuracy: 0.8544\n",
      "Epoch 78/100\n",
      "1826/1826 [==============================] - 6s 3ms/step - loss: 0.3371 - accuracy: 0.8532\n",
      "Epoch 79/100\n"
     ]
    },
    {
     "name": "stdout",
     "output_type": "stream",
     "text": [
      "1826/1826 [==============================] - 5s 3ms/step - loss: 0.3372 - accuracy: 0.8540\n",
      "Epoch 80/100\n",
      "1826/1826 [==============================] - 5s 3ms/step - loss: 0.3365 - accuracy: 0.8538\n",
      "Epoch 81/100\n",
      "1826/1826 [==============================] - 5s 3ms/step - loss: 0.3354 - accuracy: 0.8537\n",
      "Epoch 82/100\n",
      "1826/1826 [==============================] - 5s 3ms/step - loss: 0.3375 - accuracy: 0.8536\n",
      "Epoch 83/100\n",
      "1826/1826 [==============================] - 5s 3ms/step - loss: 0.3372 - accuracy: 0.8545\n",
      "Epoch 84/100\n",
      "1826/1826 [==============================] - 5s 3ms/step - loss: 0.3339 - accuracy: 0.8564\n",
      "Epoch 85/100\n",
      "1826/1826 [==============================] - 5s 3ms/step - loss: 0.3363 - accuracy: 0.8555\n",
      "Epoch 86/100\n",
      "1826/1826 [==============================] - 5s 3ms/step - loss: 0.3352 - accuracy: 0.8550\n",
      "Epoch 87/100\n",
      "1826/1826 [==============================] - 5s 3ms/step - loss: 0.3345 - accuracy: 0.8551\n",
      "Epoch 88/100\n",
      "1826/1826 [==============================] - 5s 3ms/step - loss: 0.3362 - accuracy: 0.8544\n",
      "Epoch 89/100\n",
      "1826/1826 [==============================] - 5s 3ms/step - loss: 0.3319 - accuracy: 0.8569\n",
      "Epoch 90/100\n",
      "1826/1826 [==============================] - 5s 3ms/step - loss: 0.3335 - accuracy: 0.8560\n",
      "Epoch 91/100\n",
      "1826/1826 [==============================] - 5s 3ms/step - loss: 0.3338 - accuracy: 0.8560\n",
      "Epoch 92/100\n",
      "1826/1826 [==============================] - 5s 3ms/step - loss: 0.3330 - accuracy: 0.8564\n",
      "Epoch 93/100\n",
      "1826/1826 [==============================] - 5s 3ms/step - loss: 0.3336 - accuracy: 0.8570\n",
      "Epoch 94/100\n",
      "1826/1826 [==============================] - 5s 3ms/step - loss: 0.3327 - accuracy: 0.8570\n",
      "Epoch 95/100\n",
      "1826/1826 [==============================] - 5s 3ms/step - loss: 0.3318 - accuracy: 0.8560\n",
      "Epoch 96/100\n",
      "1826/1826 [==============================] - 5s 3ms/step - loss: 0.3339 - accuracy: 0.8564\n",
      "Epoch 97/100\n",
      "1826/1826 [==============================] - 5s 3ms/step - loss: 0.3316 - accuracy: 0.8573\n",
      "Epoch 98/100\n",
      "1826/1826 [==============================] - 5s 3ms/step - loss: 0.3324 - accuracy: 0.8570\n",
      "Epoch 99/100\n",
      "1826/1826 [==============================] - 5s 3ms/step - loss: 0.3329 - accuracy: 0.8565\n",
      "Epoch 100/100\n",
      "1826/1826 [==============================] - 5s 3ms/step - loss: 0.3333 - accuracy: 0.8566\n",
      "1565/1565 [==============================] - 3s 2ms/step - loss: 0.2795 - accuracy: 0.8877\n",
      "Loss: 0.27950626611709595\n",
      "Accuracy: 0.8876617550849915\n"
     ]
    }
   ],
   "source": [
    "# Compile the model\n",
    "ann_model.compile(optimizer='adam', loss='binary_crossentropy', metrics=['accuracy'])\n",
    "\n",
    "# Train the model\n",
    "ann_model.fit(cnn_X_train, cnn_y_train, epochs=100, batch_size=64)\n",
    "\n",
    "# Evaluate the model on the test set\n",
    "ann_loss, ann_accuracy = ann_model.evaluate(cnn_X_test, cnn_y_test)\n",
    "print('Loss:', ann_loss)\n",
    "print('Accuracy:', ann_accuracy)"
   ]
  },
  {
   "cell_type": "code",
   "execution_count": 37,
   "id": "f22b8e06",
   "metadata": {},
   "outputs": [
    {
     "name": "stdout",
     "output_type": "stream",
     "text": [
      "1565/1565 [==============================] - 3s 2ms/step\n",
      "              precision    recall  f1-score   support\n",
      "\n",
      "           0       0.90      0.96      0.93     36387\n",
      "           1       0.86      0.70      0.77     13685\n",
      "\n",
      "    accuracy                           0.89     50072\n",
      "   macro avg       0.88      0.83      0.85     50072\n",
      "weighted avg       0.89      0.89      0.88     50072\n",
      "\n"
     ]
    }
   ],
   "source": [
    "# Predict the labels of the test data\n",
    "ann_y_pred = ann_model.predict(cnn_X_test)\n",
    "# Convert the predicted probabilities to class labels\n",
    "ann_y_pred = pd.Series(np.ravel(ann_y_pred))\n",
    "ann_y_pred = (ann_y_pred >= 0.5)\n",
    "\n",
    "# Compute the recall score\n",
    "ann_report = classification_report(cnn_y_test,ann_y_pred)\n",
    "\n",
    "print(ann_report)"
   ]
  },
  {
   "cell_type": "code",
   "execution_count": 38,
   "id": "91dccdc7",
   "metadata": {},
   "outputs": [
    {
     "name": "stdout",
     "output_type": "stream",
     "text": [
      "1565/1565 [==============================] - 3s 2ms/step\n",
      "              precision    recall  f1-score   support\n",
      "\n",
      "           0       0.90      0.96      0.93     36387\n",
      "           1       0.86      0.70      0.77     13685\n",
      "\n",
      "    accuracy                           0.89     50072\n",
      "   macro avg       0.88      0.83      0.85     50072\n",
      "weighted avg       0.89      0.89      0.88     50072\n",
      "\n"
     ]
    }
   ],
   "source": [
    "# Predict the labels of the test data\n",
    "ann_y_pred = ann_model.predict(cnn_X_test)\n",
    "# Convert the predicted probabilities to class labels\n",
    "ann_y_pred = pd.Series(np.ravel(ann_y_pred))\n",
    "ann_y_pred = (ann_y_pred >= 0.5)\n",
    "\n",
    "# Compute the recall score\n",
    "ann_report = classification_report(cnn_y_test,ann_y_pred)\n",
    "\n",
    "print(ann_report)"
   ]
  },
  {
   "cell_type": "code",
   "execution_count": 39,
   "id": "cf222646",
   "metadata": {},
   "outputs": [
    {
     "data": {
      "image/png": "[encoded data removed]",
      "text/plain": [
       "<Figure size 640x480 with 2 Axes>"
      ]
     },
     "metadata": {},
     "output_type": "display_data"
    }
   ],
   "source": [
    "# Compute the confusion matrix\n",
    "ann_cm = confusion_matrix(cnn_y_test,ann_y_pred)\n",
    "\n",
    "# Plot the confusion matrix\n",
    "sns.heatmap(ann_cm, annot=True, cmap='Blues', fmt='g')\n",
    "plt.xlabel('Predicted')\n",
    "plt.ylabel('True')\n",
    "plt.show()"
   ]
  },
  {
   "cell_type": "code",
   "execution_count": null,
   "id": "56f47a19",
   "metadata": {},
   "outputs": [],
   "source": []
  }
 ],
 "metadata": {
  "kernelspec": {
   "display_name": "Python 3 (ipykernel)",
   "language": "python",
   "name": "python3"
  },
  "language_info": {
   "codemirror_mode": {
    "name": "ipython",
    "version": 3
   },
   "file_extension": ".py",
   "mimetype": "text/x-python",
   "name": "python",
   "nbconvert_exporter": "python",
   "pygments_lexer": "ipython3",
   "version": "3.10.10"
  }
 },
 "nbformat": 4,
 "nbformat_minor": 5
}
