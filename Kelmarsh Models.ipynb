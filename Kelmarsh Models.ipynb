{
 "cells": [
  {
   "cell_type": "markdown",
   "id": "bc816a19",
   "metadata": {},
   "source": [
    "# Modeling"
   ]
  },
  {
   "cell_type": "code",
   "execution_count": 1,
   "id": "4a6f29bd",
   "metadata": {},
   "outputs": [],
   "source": [
    "#INSTALLING DEPENDENCIES\n",
    "import pandas as pd\n",
    "import seaborn as sns\n",
    "import numpy as np\n",
    "import matplotlib.pyplot as plt\n",
    "%matplotlib inline\n",
    "\n",
    "from sklearn.model_selection import train_test_split\n",
    "from xgboost import XGBClassifier\n",
    "from sklearn.ensemble import RandomForestClassifier\n",
    "from sklearn import tree\n",
    "from sklearn.metrics import classification_report, confusion_matrix\n",
    "\n",
    "from tensorflow import keras\n",
    "from tensorflow.keras.models import Sequential, Model\n",
    "from tensorflow.keras.layers import Conv1D, MaxPooling1D, Flatten, Input, Dense, LSTM, Dropout, RepeatVector, TimeDistributed\n",
    "from keras.optimizers import Adam\n",
    "from keras import regularizers"
   ]
  },
  {
   "cell_type": "markdown",
   "id": "e8c6113e",
   "metadata": {},
   "source": [
    "## Loading Preprocessed Data "
   ]
  },
  {
   "cell_type": "code",
   "execution_count": 2,
   "id": "5b9fc2a4",
   "metadata": {
    "scrolled": true
   },
   "outputs": [
    {
     "data": {
      "text/html": [
       "<div>\n",
       "<style scoped>\n",
       "    .dataframe tbody tr th:only-of-type {\n",
       "        vertical-align: middle;\n",
       "    }\n",
       "\n",
       "    .dataframe tbody tr th {\n",
       "        vertical-align: top;\n",
       "    }\n",
       "\n",
       "    .dataframe thead th {\n",
       "        text-align: right;\n",
       "    }\n",
       "</style>\n",
       "<table border=\"1\" class=\"dataframe\">\n",
       "  <thead>\n",
       "    <tr style=\"text-align: right;\">\n",
       "      <th></th>\n",
       "      <th>Wind speed (m/s)</th>\n",
       "      <th>Long Term Wind (m/s)</th>\n",
       "      <th>Wind speed Sensor 1 (m/s)</th>\n",
       "      <th>Wind speed Sensor 2 (m/s)</th>\n",
       "      <th>Wind direction (°)</th>\n",
       "      <th>Nacelle position (°)</th>\n",
       "      <th>Vane position 1+2 (°)</th>\n",
       "      <th>Power (kW)</th>\n",
       "      <th>Turbine Power setpoint (kW)</th>\n",
       "      <th>Reactive power (kvar)</th>\n",
       "      <th>...</th>\n",
       "      <th>Blade angle (pitch position) C (°)</th>\n",
       "      <th>Yaw bearing angle (°)</th>\n",
       "      <th>Gear oil inlet pressure (bar)</th>\n",
       "      <th>Gear oil pump pressure (bar)</th>\n",
       "      <th>Grid frequency (Hz)</th>\n",
       "      <th>Apparent power (kVA)</th>\n",
       "      <th>Drive train acceleration (mm/ss)</th>\n",
       "      <th>Tower Acceleration X (mm/ss)</th>\n",
       "      <th>Tower Acceleration y (mm/ss)</th>\n",
       "      <th>anomaly</th>\n",
       "    </tr>\n",
       "  </thead>\n",
       "  <tbody>\n",
       "    <tr>\n",
       "      <th>0</th>\n",
       "      <td>0.742150</td>\n",
       "      <td>-0.609653</td>\n",
       "      <td>0.658625</td>\n",
       "      <td>0.746686</td>\n",
       "      <td>1.588854</td>\n",
       "      <td>1.62371</td>\n",
       "      <td>-0.260758</td>\n",
       "      <td>0.712101</td>\n",
       "      <td>1.021277</td>\n",
       "      <td>-0.736459</td>\n",
       "      <td>...</td>\n",
       "      <td>-0.376718</td>\n",
       "      <td>1.623709</td>\n",
       "      <td>1.114850</td>\n",
       "      <td>0.812539</td>\n",
       "      <td>-0.089257</td>\n",
       "      <td>0.709760</td>\n",
       "      <td>5.487802</td>\n",
       "      <td>0.025632</td>\n",
       "      <td>0.445277</td>\n",
       "      <td>1</td>\n",
       "    </tr>\n",
       "    <tr>\n",
       "      <th>1</th>\n",
       "      <td>0.567030</td>\n",
       "      <td>-0.609653</td>\n",
       "      <td>0.513932</td>\n",
       "      <td>0.612426</td>\n",
       "      <td>1.561509</td>\n",
       "      <td>1.62371</td>\n",
       "      <td>-0.311974</td>\n",
       "      <td>0.609483</td>\n",
       "      <td>0.917348</td>\n",
       "      <td>-0.650119</td>\n",
       "      <td>...</td>\n",
       "      <td>-0.376718</td>\n",
       "      <td>1.623709</td>\n",
       "      <td>1.264111</td>\n",
       "      <td>0.955602</td>\n",
       "      <td>-0.052797</td>\n",
       "      <td>0.612785</td>\n",
       "      <td>6.339041</td>\n",
       "      <td>0.002650</td>\n",
       "      <td>0.307569</td>\n",
       "      <td>1</td>\n",
       "    </tr>\n",
       "    <tr>\n",
       "      <th>2</th>\n",
       "      <td>0.617562</td>\n",
       "      <td>-0.609653</td>\n",
       "      <td>0.580067</td>\n",
       "      <td>0.627677</td>\n",
       "      <td>1.555763</td>\n",
       "      <td>1.62371</td>\n",
       "      <td>-0.334879</td>\n",
       "      <td>0.700478</td>\n",
       "      <td>1.173613</td>\n",
       "      <td>-0.887011</td>\n",
       "      <td>...</td>\n",
       "      <td>-0.376718</td>\n",
       "      <td>1.623709</td>\n",
       "      <td>0.545394</td>\n",
       "      <td>0.314733</td>\n",
       "      <td>0.107740</td>\n",
       "      <td>0.712037</td>\n",
       "      <td>6.383784</td>\n",
       "      <td>-0.234531</td>\n",
       "      <td>0.052997</td>\n",
       "      <td>1</td>\n",
       "    </tr>\n",
       "    <tr>\n",
       "      <th>3</th>\n",
       "      <td>0.607886</td>\n",
       "      <td>-0.609653</td>\n",
       "      <td>0.570906</td>\n",
       "      <td>0.614425</td>\n",
       "      <td>1.549362</td>\n",
       "      <td>1.62371</td>\n",
       "      <td>-0.496544</td>\n",
       "      <td>0.643069</td>\n",
       "      <td>0.978726</td>\n",
       "      <td>-0.718919</td>\n",
       "      <td>...</td>\n",
       "      <td>-0.376718</td>\n",
       "      <td>1.623709</td>\n",
       "      <td>1.824157</td>\n",
       "      <td>1.404832</td>\n",
       "      <td>-0.140324</td>\n",
       "      <td>0.644570</td>\n",
       "      <td>6.049186</td>\n",
       "      <td>-0.202035</td>\n",
       "      <td>0.906125</td>\n",
       "      <td>1</td>\n",
       "    </tr>\n",
       "    <tr>\n",
       "      <th>4</th>\n",
       "      <td>0.576726</td>\n",
       "      <td>-0.609653</td>\n",
       "      <td>0.531557</td>\n",
       "      <td>0.519676</td>\n",
       "      <td>1.555541</td>\n",
       "      <td>1.62371</td>\n",
       "      <td>-0.492387</td>\n",
       "      <td>0.451087</td>\n",
       "      <td>0.812603</td>\n",
       "      <td>-0.592508</td>\n",
       "      <td>...</td>\n",
       "      <td>-0.376718</td>\n",
       "      <td>1.623709</td>\n",
       "      <td>0.764606</td>\n",
       "      <td>0.479379</td>\n",
       "      <td>-0.184053</td>\n",
       "      <td>0.456094</td>\n",
       "      <td>6.012873</td>\n",
       "      <td>-0.248266</td>\n",
       "      <td>0.675658</td>\n",
       "      <td>1</td>\n",
       "    </tr>\n",
       "  </tbody>\n",
       "</table>\n",
       "<p>5 rows × 49 columns</p>\n",
       "</div>"
      ],
      "text/plain": [
       "   Wind speed (m/s)  Long Term Wind (m/s)  Wind speed Sensor 1 (m/s)   \n",
       "0          0.742150             -0.609653                   0.658625  \\\n",
       "1          0.567030             -0.609653                   0.513932   \n",
       "2          0.617562             -0.609653                   0.580067   \n",
       "3          0.607886             -0.609653                   0.570906   \n",
       "4          0.576726             -0.609653                   0.531557   \n",
       "\n",
       "   Wind speed Sensor 2 (m/s)  Wind direction (°)  Nacelle position (°)   \n",
       "0                   0.746686            1.588854               1.62371  \\\n",
       "1                   0.612426            1.561509               1.62371   \n",
       "2                   0.627677            1.555763               1.62371   \n",
       "3                   0.614425            1.549362               1.62371   \n",
       "4                   0.519676            1.555541               1.62371   \n",
       "\n",
       "   Vane position 1+2 (°)  Power (kW)  Turbine Power setpoint (kW)   \n",
       "0              -0.260758    0.712101                     1.021277  \\\n",
       "1              -0.311974    0.609483                     0.917348   \n",
       "2              -0.334879    0.700478                     1.173613   \n",
       "3              -0.496544    0.643069                     0.978726   \n",
       "4              -0.492387    0.451087                     0.812603   \n",
       "\n",
       "   Reactive power (kvar)  ...  Blade angle (pitch position) C (°)   \n",
       "0              -0.736459  ...                           -0.376718  \\\n",
       "1              -0.650119  ...                           -0.376718   \n",
       "2              -0.887011  ...                           -0.376718   \n",
       "3              -0.718919  ...                           -0.376718   \n",
       "4              -0.592508  ...                           -0.376718   \n",
       "\n",
       "   Yaw bearing angle (°)  Gear oil inlet pressure (bar)   \n",
       "0               1.623709                       1.114850  \\\n",
       "1               1.623709                       1.264111   \n",
       "2               1.623709                       0.545394   \n",
       "3               1.623709                       1.824157   \n",
       "4               1.623709                       0.764606   \n",
       "\n",
       "   Gear oil pump pressure (bar)  Grid frequency (Hz)  Apparent power (kVA)   \n",
       "0                      0.812539            -0.089257              0.709760  \\\n",
       "1                      0.955602            -0.052797              0.612785   \n",
       "2                      0.314733             0.107740              0.712037   \n",
       "3                      1.404832            -0.140324              0.644570   \n",
       "4                      0.479379            -0.184053              0.456094   \n",
       "\n",
       "   Drive train acceleration (mm/ss)  Tower Acceleration X (mm/ss)   \n",
       "0                          5.487802                      0.025632  \\\n",
       "1                          6.339041                      0.002650   \n",
       "2                          6.383784                     -0.234531   \n",
       "3                          6.049186                     -0.202035   \n",
       "4                          6.012873                     -0.248266   \n",
       "\n",
       "   Tower Acceleration y (mm/ss)  anomaly  \n",
       "0                      0.445277        1  \n",
       "1                      0.307569        1  \n",
       "2                      0.052997        1  \n",
       "3                      0.906125        1  \n",
       "4                      0.675658        1  \n",
       "\n",
       "[5 rows x 49 columns]"
      ]
     },
     "execution_count": 2,
     "metadata": {},
     "output_type": "execute_result"
    }
   ],
   "source": [
    "# file for data from 2018-2021 : Kelmarsh_turbine1(2018-2021).csv\n",
    "# file for 2020 data Kelmarsh_turbine1-2020.csv\n",
    "\n",
    "#reading the clean data\n",
    "PreprocessedDataTurbine1 = pd.read_csv(\"Kelmarsh_turbine1(2018-2021).csv\", sep=',')\n",
    "PreprocessedDataTurbine1 = PreprocessedDataTurbine1.drop('Unnamed: 0', axis=1)\n",
    "\n",
    "PreprocessedDataTurbine1.head()"
   ]
  },
  {
   "cell_type": "code",
   "execution_count": 3,
   "id": "7bc0d4a4",
   "metadata": {},
   "outputs": [
    {
     "data": {
      "text/plain": [
       "(166905, 49)"
      ]
     },
     "execution_count": 3,
     "metadata": {},
     "output_type": "execute_result"
    }
   ],
   "source": [
    "PreprocessedDataTurbine1.shape"
   ]
  },
  {
   "cell_type": "markdown",
   "id": "0f7cfbbe",
   "metadata": {},
   "source": [
    "## Splitting the data to train and test data "
   ]
  },
  {
   "cell_type": "markdown",
   "id": "5caff78a",
   "metadata": {},
   "source": [
    "### Time Series Split (For LSTM-AE model)"
   ]
  },
  {
   "cell_type": "code",
   "execution_count": 4,
   "id": "e509b5d0",
   "metadata": {},
   "outputs": [
    {
     "name": "stdout",
     "output_type": "stream",
     "text": [
      "Size of training data: (141869,)\n",
      "Number of anomalies in training data: 43339\n",
      "Size of test data: (25036,)\n",
      "Number of anomalies in test data: 2445\n"
     ]
    }
   ],
   "source": [
    "# Assume your data is in a pandas DataFrame named 'df' with a datetime index\n",
    "split_point = int(.85 * PreprocessedDataTurbine1.shape[0])\n",
    "train_data = PreprocessedDataTurbine1.loc[PreprocessedDataTurbine1.index < split_point]\n",
    "test_data = PreprocessedDataTurbine1.loc[PreprocessedDataTurbine1.index >= split_point]\n",
    "\n",
    "# Split the data into X (features) and y (labels/target)\n",
    "X_train, y_train = train_data.drop('anomaly', axis=1), train_data['anomaly']\n",
    "X_test, y_test = test_data.drop('anomaly', axis=1), test_data['anomaly']\n",
    "\n",
    "# get the indices of the normal points in y_train\n",
    "normal_idx = y_train[y_train == 0].index\n",
    "anomaly_idx = y_train[y_train == 1].index\n",
    "\n",
    "# select only the rows with normal points from X_train to train our unsupervised model\n",
    "X_train_normal = X_train.loc[normal_idx]\n",
    "X_train_anomalies = X_train.loc[anomaly_idx]\n",
    "X_train_normal.shape\n",
    "\n",
    "train_anomalies = np.count_nonzero(y_train == 1)\n",
    "test_anomalies = np.count_nonzero(y_test == 1)\n",
    "print(\"Size of training data:\", y_train.shape)\n",
    "print(\"Number of anomalies in training data:\", train_anomalies)\n",
    "print(\"Size of test data:\", y_test.shape)\n",
    "print(\"Number of anomalies in test data:\", test_anomalies)"
   ]
  },
  {
   "cell_type": "markdown",
   "id": "654c7ba6",
   "metadata": {},
   "source": [
    "### Splitting Row Data "
   ]
  },
  {
   "cell_type": "code",
   "execution_count": 5,
   "id": "376eb895",
   "metadata": {},
   "outputs": [
    {
     "name": "stdout",
     "output_type": "stream",
     "text": [
      "Size of training data: (116833,)\n",
      "Number of anomalies in training data: 32018\n",
      "Size of test data: (50072,)\n",
      "Number of anomalies in test data: 13766\n"
     ]
    }
   ],
   "source": [
    "Rowdata=PreprocessedDataTurbine1\n",
    "\n",
    "X, y = Rowdata.drop('anomaly', axis=1), Rowdata['anomaly']\n",
    "\n",
    "# Split the data into training and testing sets\n",
    "Row_X_train, Row_X_test, Row_y_train, Row_y_test = train_test_split(X, y, test_size=0.3)\n",
    "\n",
    "Row_train_anomalies = np.count_nonzero(Row_y_train == 1)\n",
    "Row_test_anomalies = np.count_nonzero(Row_y_test == 1)\n",
    "\n",
    "print(\"Size of training data:\", Row_y_train.shape)\n",
    "print(\"Number of anomalies in training data:\", Row_train_anomalies)\n",
    "print(\"Size of test data:\", Row_y_test.shape)\n",
    "print(\"Number of anomalies in test data:\", Row_test_anomalies)"
   ]
  },
  {
   "cell_type": "markdown",
   "id": "2687723c",
   "metadata": {},
   "source": [
    "## Models"
   ]
  },
  {
   "cell_type": "markdown",
   "id": "55f62c8f",
   "metadata": {},
   "source": [
    "### LSTM-AE "
   ]
  },
  {
   "cell_type": "code",
   "execution_count": 20,
   "id": "868c1315",
   "metadata": {},
   "outputs": [
    {
     "name": "stdout",
     "output_type": "stream",
     "text": [
      "Training data shape: (98530, 1, 48)\n",
      "Test data shape: (25036, 1, 48)\n"
     ]
    }
   ],
   "source": [
    " # reshape inputs for LSTM [samples, timesteps, features]\n",
    "X_Train = X_train_normal.values\n",
    "X_Test = X_test.values\n",
    "n_samples_train = X_Train.shape[0]\n",
    "n_features = X_Train.shape[1]\n",
    "n_timesteps = 1\n",
    "X_Train = X_Train.reshape(n_samples_train, n_timesteps, n_features)\n",
    "print(\"Training data shape:\", X_Train.shape)\n",
    "n_samples_test = X_Test.shape[0]\n",
    "X_Test = X_Test.reshape(n_samples_test, n_timesteps, n_features)\n",
    "print(\"Test data shape:\", X_Test.shape)"
   ]
  },
  {
   "cell_type": "code",
   "execution_count": 154,
   "id": "6f0fda30",
   "metadata": {},
   "outputs": [],
   "source": [
    "lstmunits=64\n",
    "# define the autoencoder network model\n",
    "def lstm_autoencoder_model(X):\n",
    "    inputs = Input(shape=(X.shape[1], X.shape[2]))\n",
    "    L1 = LSTM(lstmunits, activation='relu', return_sequences=True,kernel_regularizer=regularizers.l2(0.00))(inputs)\n",
    "    L2 = LSTM(4, activation='relu', return_sequences=False)(L1)\n",
    "    L3 = RepeatVector(X.shape[1])(L2)\n",
    "    L4 = LSTM(4, activation='relu', return_sequences=True)(L3)\n",
    "    L5 = LSTM(lstmunits, activation='relu', return_sequences=True)(L4)\n",
    "    output = TimeDistributed(Dense(X.shape[2]))(L5)\n",
    "    model = Model(inputs=inputs, outputs=output)\n",
    "    return model"
   ]
  },
  {
   "cell_type": "code",
   "execution_count": 155,
   "id": "fd1cb03b",
   "metadata": {},
   "outputs": [
    {
     "name": "stdout",
     "output_type": "stream",
     "text": [
      "Model: \"model_11\"\n",
      "_________________________________________________________________\n",
      " Layer (type)                Output Shape              Param #   \n",
      "=================================================================\n",
      " input_12 (InputLayer)       [(None, 1, 48)]           0         \n",
      "                                                                 \n",
      " lstm_44 (LSTM)              (None, 1, 64)             28928     \n",
      "                                                                 \n",
      " lstm_45 (LSTM)              (None, 4)                 1104      \n",
      "                                                                 \n",
      " repeat_vector_11 (RepeatVec  (None, 1, 4)             0         \n",
      " tor)                                                            \n",
      "                                                                 \n",
      " lstm_46 (LSTM)              (None, 1, 4)              144       \n",
      "                                                                 \n",
      " lstm_47 (LSTM)              (None, 1, 64)             17664     \n",
      "                                                                 \n",
      " time_distributed_11 (TimeDi  (None, 1, 48)            3120      \n",
      " stributed)                                                      \n",
      "                                                                 \n",
      "=================================================================\n",
      "Total params: 50,960\n",
      "Trainable params: 50,960\n",
      "Non-trainable params: 0\n",
      "_________________________________________________________________\n"
     ]
    }
   ],
   "source": [
    "# create the autoencoder model\n",
    "lstmae_model = lstm_autoencoder_model(X_Train)\n",
    "lstmae_model.compile(optimizer='adam', loss='mae')\n",
    "lstmae_model.summary()"
   ]
  },
  {
   "cell_type": "code",
   "execution_count": 247,
   "id": "9bbd4bd4",
   "metadata": {
    "scrolled": true
   },
   "outputs": [
    {
     "name": "stdout",
     "output_type": "stream",
     "text": [
      "Epoch 1/70\n",
      "328/328 [==============================] - 2s 7ms/step - loss: 0.1491 - val_loss: 0.1517\n",
      "Epoch 2/70\n",
      "328/328 [==============================] - 2s 6ms/step - loss: 0.1491 - val_loss: 0.1511\n",
      "Epoch 3/70\n",
      "328/328 [==============================] - 2s 6ms/step - loss: 0.1491 - val_loss: 0.1526\n",
      "Epoch 4/70\n",
      "328/328 [==============================] - 2s 6ms/step - loss: 0.1490 - val_loss: 0.1516\n",
      "Epoch 5/70\n",
      "328/328 [==============================] - 2s 7ms/step - loss: 0.1490 - val_loss: 0.1519\n",
      "Epoch 6/70\n",
      "328/328 [==============================] - 2s 6ms/step - loss: 0.1491 - val_loss: 0.1518\n",
      "Epoch 7/70\n",
      "328/328 [==============================] - 2s 6ms/step - loss: 0.1490 - val_loss: 0.1522\n",
      "Epoch 8/70\n",
      "328/328 [==============================] - 2s 6ms/step - loss: 0.1490 - val_loss: 0.1519\n",
      "Epoch 9/70\n",
      "328/328 [==============================] - 2s 6ms/step - loss: 0.1490 - val_loss: 0.1519\n",
      "Epoch 10/70\n",
      "328/328 [==============================] - 2s 6ms/step - loss: 0.1490 - val_loss: 0.1515\n",
      "Epoch 11/70\n",
      "328/328 [==============================] - 2s 6ms/step - loss: 0.1490 - val_loss: 0.1517\n",
      "Epoch 12/70\n",
      "328/328 [==============================] - 2s 7ms/step - loss: 0.1490 - val_loss: 0.1515\n",
      "Epoch 13/70\n",
      "328/328 [==============================] - 2s 7ms/step - loss: 0.1490 - val_loss: 0.1520\n",
      "Epoch 14/70\n",
      "328/328 [==============================] - 2s 7ms/step - loss: 0.1490 - val_loss: 0.1520\n",
      "Epoch 15/70\n",
      "328/328 [==============================] - 2s 7ms/step - loss: 0.1490 - val_loss: 0.1520\n",
      "Epoch 16/70\n",
      "328/328 [==============================] - 2s 8ms/step - loss: 0.1490 - val_loss: 0.1516\n",
      "Epoch 17/70\n",
      "328/328 [==============================] - 2s 7ms/step - loss: 0.1489 - val_loss: 0.1526\n",
      "Epoch 18/70\n",
      "328/328 [==============================] - 2s 8ms/step - loss: 0.1490 - val_loss: 0.1513\n",
      "Epoch 19/70\n",
      "328/328 [==============================] - 3s 8ms/step - loss: 0.1489 - val_loss: 0.1519\n",
      "Epoch 20/70\n",
      "328/328 [==============================] - 3s 8ms/step - loss: 0.1489 - val_loss: 0.1518\n",
      "Epoch 21/70\n",
      "328/328 [==============================] - 3s 8ms/step - loss: 0.1489 - val_loss: 0.1520\n",
      "Epoch 22/70\n",
      "328/328 [==============================] - 3s 8ms/step - loss: 0.1489 - val_loss: 0.1519\n",
      "Epoch 23/70\n",
      "328/328 [==============================] - 3s 8ms/step - loss: 0.1489 - val_loss: 0.1520\n",
      "Epoch 24/70\n",
      "328/328 [==============================] - 3s 8ms/step - loss: 0.1489 - val_loss: 0.1517\n",
      "Epoch 25/70\n",
      "328/328 [==============================] - 3s 9ms/step - loss: 0.1489 - val_loss: 0.1513\n",
      "Epoch 26/70\n",
      "328/328 [==============================] - 3s 10ms/step - loss: 0.1488 - val_loss: 0.1521\n",
      "Epoch 27/70\n",
      "328/328 [==============================] - 3s 10ms/step - loss: 0.1489 - val_loss: 0.1517\n",
      "Epoch 28/70\n",
      "328/328 [==============================] - 3s 10ms/step - loss: 0.1489 - val_loss: 0.1515\n",
      "Epoch 29/70\n",
      "328/328 [==============================] - 3s 9ms/step - loss: 0.1489 - val_loss: 0.1513\n",
      "Epoch 30/70\n",
      "328/328 [==============================] - 3s 10ms/step - loss: 0.1488 - val_loss: 0.1511\n",
      "Epoch 31/70\n",
      "328/328 [==============================] - 3s 9ms/step - loss: 0.1488 - val_loss: 0.1518\n",
      "Epoch 32/70\n",
      "328/328 [==============================] - 3s 10ms/step - loss: 0.1488 - val_loss: 0.1517\n",
      "Epoch 33/70\n",
      "328/328 [==============================] - 3s 10ms/step - loss: 0.1489 - val_loss: 0.1525\n",
      "Epoch 34/70\n",
      "328/328 [==============================] - 3s 10ms/step - loss: 0.1489 - val_loss: 0.1523\n",
      "Epoch 35/70\n",
      "328/328 [==============================] - 3s 10ms/step - loss: 0.1488 - val_loss: 0.1509\n",
      "Epoch 36/70\n",
      "328/328 [==============================] - 3s 10ms/step - loss: 0.1488 - val_loss: 0.1516\n",
      "Epoch 37/70\n",
      "328/328 [==============================] - 3s 10ms/step - loss: 0.1488 - val_loss: 0.1525\n",
      "Epoch 38/70\n",
      "328/328 [==============================] - 3s 10ms/step - loss: 0.1487 - val_loss: 0.1522\n",
      "Epoch 39/70\n",
      "328/328 [==============================] - 3s 10ms/step - loss: 0.1488 - val_loss: 0.1523\n",
      "Epoch 40/70\n",
      "328/328 [==============================] - 3s 10ms/step - loss: 0.1488 - val_loss: 0.1516\n",
      "Epoch 41/70\n",
      "328/328 [==============================] - 3s 10ms/step - loss: 0.1488 - val_loss: 0.1516\n",
      "Epoch 42/70\n",
      "328/328 [==============================] - 3s 9ms/step - loss: 0.1487 - val_loss: 0.1514\n",
      "Epoch 43/70\n",
      "328/328 [==============================] - 3s 10ms/step - loss: 0.1488 - val_loss: 0.1520\n",
      "Epoch 44/70\n",
      "328/328 [==============================] - 3s 10ms/step - loss: 0.1487 - val_loss: 0.1519\n",
      "Epoch 45/70\n",
      "328/328 [==============================] - 3s 10ms/step - loss: 0.1487 - val_loss: 0.1518\n",
      "Epoch 46/70\n",
      "328/328 [==============================] - 3s 10ms/step - loss: 0.1488 - val_loss: 0.1520\n",
      "Epoch 47/70\n",
      "328/328 [==============================] - 3s 10ms/step - loss: 0.1487 - val_loss: 0.1517\n",
      "Epoch 48/70\n",
      "328/328 [==============================] - 3s 10ms/step - loss: 0.1487 - val_loss: 0.1516\n",
      "Epoch 49/70\n",
      "328/328 [==============================] - 3s 10ms/step - loss: 0.1487 - val_loss: 0.1523\n",
      "Epoch 50/70\n",
      "328/328 [==============================] - 3s 9ms/step - loss: 0.1487 - val_loss: 0.1510\n",
      "Epoch 51/70\n",
      "328/328 [==============================] - 3s 9ms/step - loss: 0.1487 - val_loss: 0.1517\n",
      "Epoch 52/70\n",
      "328/328 [==============================] - 3s 10ms/step - loss: 0.1487 - val_loss: 0.1514\n",
      "Epoch 53/70\n",
      "328/328 [==============================] - 3s 10ms/step - loss: 0.1487 - val_loss: 0.1512\n",
      "Epoch 54/70\n",
      "328/328 [==============================] - 3s 10ms/step - loss: 0.1487 - val_loss: 0.1514\n",
      "Epoch 55/70\n",
      "328/328 [==============================] - 3s 10ms/step - loss: 0.1487 - val_loss: 0.1514\n",
      "Epoch 56/70\n",
      "328/328 [==============================] - 3s 10ms/step - loss: 0.1487 - val_loss: 0.1512\n",
      "Epoch 57/70\n",
      "328/328 [==============================] - 3s 10ms/step - loss: 0.1486 - val_loss: 0.1520\n",
      "Epoch 58/70\n",
      "328/328 [==============================] - 3s 10ms/step - loss: 0.1486 - val_loss: 0.1514\n",
      "Epoch 59/70\n",
      "328/328 [==============================] - 3s 10ms/step - loss: 0.1486 - val_loss: 0.1513\n",
      "Epoch 60/70\n",
      "328/328 [==============================] - 3s 10ms/step - loss: 0.1486 - val_loss: 0.1521\n",
      "Epoch 61/70\n",
      "328/328 [==============================] - 3s 10ms/step - loss: 0.1486 - val_loss: 0.1515\n",
      "Epoch 62/70\n",
      "328/328 [==============================] - 3s 10ms/step - loss: 0.1486 - val_loss: 0.1513\n",
      "Epoch 63/70\n",
      "328/328 [==============================] - 3s 10ms/step - loss: 0.1485 - val_loss: 0.1516\n",
      "Epoch 64/70\n",
      "328/328 [==============================] - 3s 10ms/step - loss: 0.1486 - val_loss: 0.1513\n",
      "Epoch 65/70\n",
      "328/328 [==============================] - 3s 10ms/step - loss: 0.1486 - val_loss: 0.1523\n",
      "Epoch 66/70\n",
      "328/328 [==============================] - 3s 10ms/step - loss: 0.1486 - val_loss: 0.1520\n",
      "Epoch 67/70\n",
      "328/328 [==============================] - 3s 10ms/step - loss: 0.1486 - val_loss: 0.1514\n",
      "Epoch 68/70\n",
      "328/328 [==============================] - 3s 10ms/step - loss: 0.1485 - val_loss: 0.1517\n",
      "Epoch 69/70\n",
      "328/328 [==============================] - 3s 10ms/step - loss: 0.1485 - val_loss: 0.1522\n",
      "Epoch 70/70\n",
      "328/328 [==============================] - 3s 10ms/step - loss: 0.1486 - val_loss: 0.1514\n"
     ]
    }
   ],
   "source": [
    "# fit the model to the data\n",
    "nb_epochs = 70\n",
    "batch_size = 256\n",
    "lstmae_history = lstmae_model.fit(X_Train, X_Train, epochs=nb_epochs, batch_size=batch_size,validation_split=0.15).history"
   ]
  },
  {
   "cell_type": "code",
   "execution_count": 248,
   "id": "f540abcb",
   "metadata": {},
   "outputs": [
    {
     "data": {
      "image/png": "[encoded data removed]",
      "text/plain": [
       "<Figure size 1120x480 with 1 Axes>"
      ]
     },
     "metadata": {},
     "output_type": "display_data"
    }
   ],
   "source": [
    "# plot the training losses\n",
    "fig, ax = plt.subplots(figsize=(14, 6), dpi=80)\n",
    "ax.plot(lstmae_history['loss'], 'b', label='Train', linewidth=2)\n",
    "ax.plot(lstmae_history['val_loss'], 'r', label='Validation', linewidth=2)\n",
    "ax.set_title('Model loss', fontsize=16)\n",
    "ax.set_ylabel('Loss (mae)')\n",
    "ax.set_xlabel('Epoch')\n",
    "ax.legend(loc='upper right')\n",
    "plt.show()"
   ]
  },
  {
   "cell_type": "code",
   "execution_count": 249,
   "id": "a10004f9",
   "metadata": {},
   "outputs": [
    {
     "name": "stdout",
     "output_type": "stream",
     "text": [
      "3080/3080 [==============================] - 9s 3ms/step\n"
     ]
    },
    {
     "data": {
      "text/plain": [
       "(0.0, 0.5)"
      ]
     },
     "execution_count": 249,
     "metadata": {},
     "output_type": "execute_result"
    },
    {
     "data": {
      "image/png": "[encoded data removed]",
      "text/plain": [
       "<Figure size 500x500 with 1 Axes>"
      ]
     },
     "metadata": {},
     "output_type": "display_data"
    }
   ],
   "source": [
    "# plot the loss distribution of the training set\n",
    "lstmae_X_pred = lstmae_model.predict(X_Train)\n",
    "lstmae_X_pred = lstmae_X_pred.reshape(lstmae_X_pred.shape[0], lstmae_X_pred.shape[2])\n",
    "lstmae_X_pred = pd.DataFrame(lstmae_X_pred, columns=X_train_normal.columns)\n",
    "lstmae_X_pred.index = X_train_normal.index\n",
    "\n",
    "lstmae_scored = pd.DataFrame(index=X_train_normal.index)\n",
    "Xtrain = X_Train.reshape(X_Train.shape[0], X_Train.shape[2])\n",
    "lstmae_scored['Loss_mae'] = np.mean(np.abs(lstmae_X_pred-Xtrain), axis = 1)\n",
    "\n",
    "\n",
    "sns.displot(lstmae_scored['Loss_mae'], color = 'blue');\n",
    "plt.xlim([0.0,0.5])"
   ]
  },
  {
   "cell_type": "code",
   "execution_count": 254,
   "id": "4b958a51",
   "metadata": {},
   "outputs": [
    {
     "name": "stdout",
     "output_type": "stream",
     "text": [
      "783/783 [==============================] - 1s 2ms/step\n",
      "(1330, 3)\n",
      "2445\n"
     ]
    }
   ],
   "source": [
    "# calculate the loss on the test set\n",
    "lstmae_x_pred = lstmae_model.predict(X_Test)\n",
    "lstmae_X_pred = lstmae_x_pred\n",
    "lstmae_X_pred = lstmae_X_pred.reshape(lstmae_X_pred.shape[0], lstmae_X_pred.shape[2])\n",
    "lstmae_X_pred = pd.DataFrame(lstmae_X_pred, columns=X_test.columns)\n",
    "lstmae_X_pred.index = X_test.index\n",
    "lstmae_scored = pd.DataFrame(index=X_test.index)\n",
    "lstmae_Xtest = X_Test.reshape(X_Test.shape[0], X_Test.shape[2])\n",
    "lstmae_scored['Loss_mae'] = np.mean(np.abs(lstmae_X_pred-lstmae_Xtest), axis = 1)\n",
    "lstmae_scored['Threshold'] = 0.27\n",
    "lstmae_scored['Anomaly'] = lstmae_scored['Loss_mae'] > lstmae_scored['Threshold']\n",
    "lstmae_scored.head()\n",
    "\n",
    "print(lstmae_scored.loc[lstmae_scored['Anomaly']==True].shape)\n",
    "print(y_test.sum())\n"
   ]
  },
  {
   "cell_type": "code",
   "execution_count": 255,
   "id": "19e16324",
   "metadata": {},
   "outputs": [
    {
     "data": {
      "text/plain": [
       "<Axes: >"
      ]
     },
     "execution_count": 255,
     "metadata": {},
     "output_type": "execute_result"
    },
    {
     "data": {
      "image/png": "[encoded data removed]",
      "text/plain": [
       "<Figure size 1600x900 with 1 Axes>"
      ]
     },
     "metadata": {},
     "output_type": "display_data"
    }
   ],
   "source": [
    "# plot bearing failure time plot\n",
    "lstmae_scored.plot(logy=True, figsize=(16,9), color=['blue','red'])"
   ]
  },
  {
   "cell_type": "code",
   "execution_count": 256,
   "id": "97c12304",
   "metadata": {
    "scrolled": true
   },
   "outputs": [
    {
     "name": "stdout",
     "output_type": "stream",
     "text": [
      "(1330, 3)\n",
      "              precision    recall  f1-score   support\n",
      "\n",
      "           0       0.91      0.95      0.93     22591\n",
      "           1       0.15      0.08      0.11      2445\n",
      "\n",
      "    accuracy                           0.87     25036\n",
      "   macro avg       0.53      0.52      0.52     25036\n",
      "weighted avg       0.83      0.87      0.85     25036\n",
      "\n"
     ]
    }
   ],
   "source": [
    "print(lstmae_scored.loc[lstmae_scored['Loss_mae'] > lstmae_scored['Threshold']].shape)\n",
    "\n",
    "lstmae_ypred=lstmae_scored['Anomaly']\n",
    "\n",
    "# y_test and ypred are the true and predicted labels, respectively\n",
    "report = classification_report(y_test, lstmae_ypred)\n",
    "\n",
    "print(report)"
   ]
  },
  {
   "cell_type": "code",
   "execution_count": 257,
   "id": "509aca62",
   "metadata": {},
   "outputs": [
    {
     "name": "stdout",
     "output_type": "stream",
     "text": [
      "MAE:  0.1711966409674165\n",
      "RMSE:  0.3837926601069049\n",
      "Training loss:  0.14855721592903137\n",
      "Validation loss:  0.15136706829071045\n"
     ]
    }
   ],
   "source": [
    "from sklearn.metrics import mean_absolute_error, mean_squared_error\n",
    "\n",
    "# calculate the metrics\n",
    "mae = np.mean(np.abs(lstmae_X_pred - X_test), axis=1)\n",
    "rmse = np.sqrt(mean_squared_error(X_Test.reshape(-1), lstmae_x_pred.reshape(-1)))\n",
    "train_loss = lstmae_history['loss'][-1]\n",
    "val_loss = lstmae_history['val_loss'][-1]\n",
    "\n",
    "print(\"MAE: \", np.mean(mae))\n",
    "print(\"RMSE: \", rmse)\n",
    "print(\"Training loss: \", train_loss)\n",
    "print(\"Validation loss: \", val_loss)"
   ]
  },
  {
   "cell_type": "code",
   "execution_count": 259,
   "id": "68b77e54",
   "metadata": {},
   "outputs": [
    {
     "data": {
      "image/png": "[encoded data removed]",
      "text/plain": [
       "<Figure size 640x480 with 2 Axes>"
      ]
     },
     "metadata": {},
     "output_type": "display_data"
    },
    {
     "data": {
      "text/plain": [
       "<Figure size 640x480 with 0 Axes>"
      ]
     },
     "metadata": {},
     "output_type": "display_data"
    }
   ],
   "source": [
    "# Compute the confusion matrix\n",
    "lstmae_cm = confusion_matrix(y_test, lstmae_ypred)\n",
    "\n",
    "# Plot the confusion matrix\n",
    "sns.heatmap(lstmae_cm, annot=True, cmap='Blues', fmt='g')\n",
    "plt.xlabel('Predicted')\n",
    "plt.ylabel('True')\n",
    "plt.show()\n",
    "\n",
    "# save the plot as an image\n",
    "plt.savefig('confusion_matrix.png')"
   ]
  },
  {
   "cell_type": "markdown",
   "id": "ea7fdffc",
   "metadata": {},
   "source": [
    "### CNN "
   ]
  },
  {
   "cell_type": "code",
   "execution_count": 6,
   "id": "f1cd1136",
   "metadata": {},
   "outputs": [],
   "source": [
    "# Split the data into X (features) and y (labels/target)\n",
    "#cnn_X_train, cnn_y_train = train_data.drop('anomaly', axis=1), train_data['anomaly']\n",
    "#cnn_X_test, cnn_y_test = test_data.drop('anomaly', axis=1), test_data['anomaly']\n",
    "\n",
    "cnn_X_train = Row_X_train\n",
    "cnn_y_train = Row_y_train\n",
    "cnn_X_test = Row_X_test\n",
    "cnn_y_test = Row_y_test\n",
    "\n",
    "# Reshape the data for CNN input\n",
    "cnn_X_train = np.reshape(cnn_X_train.values, (cnn_X_train.shape[0], cnn_X_train.shape[1], 1))\n",
    "cnn_X_test = np.reshape(cnn_X_test.values, (cnn_X_test.shape[0], cnn_X_test.shape[1], 1))\n"
   ]
  },
  {
   "cell_type": "code",
   "execution_count": 7,
   "id": "97a1a21a",
   "metadata": {},
   "outputs": [],
   "source": [
    "# Define the CNN model\n",
    "cnn_model = Sequential()\n",
    "cnn_model.add(Conv1D(filters=64, kernel_size=3, activation='relu', input_shape=(cnn_X_train.shape[1], cnn_X_train.shape[2])))\n",
    "cnn_model.add(MaxPooling1D(pool_size=2))\n",
    "cnn_model.add(Conv1D(filters=32, kernel_size=3, activation='relu'))\n",
    "cnn_model.add(MaxPooling1D(pool_size=2))\n",
    "cnn_model.add(Flatten())\n",
    "cnn_model.add(Dense(units=1024, activation='relu'))\n",
    "cnn_model.add(Dropout(0.5))\n",
    "cnn_model.add(Dense(units=1, activation='sigmoid'))"
   ]
  },
  {
   "cell_type": "code",
   "execution_count": 8,
   "id": "3243e489",
   "metadata": {
    "scrolled": true
   },
   "outputs": [
    {
     "name": "stderr",
     "output_type": "stream",
     "text": [
      "C:\\Users\\dell\\anaconda3\\envs\\tf\\lib\\site-packages\\keras\\optimizers\\optimizer_v2\\adam.py:114: UserWarning: The `lr` argument is deprecated, use `learning_rate` instead.\n",
      "  super().__init__(name, **kwargs)\n"
     ]
    },
    {
     "name": "stdout",
     "output_type": "stream",
     "text": [
      "Epoch 1/90\n",
      "1552/1552 [==============================] - 19s 12ms/step - loss: 0.5210 - accuracy: 0.7415 - val_loss: 0.4874 - val_accuracy: 0.7618\n",
      "Epoch 2/90\n",
      "1552/1552 [==============================] - 17s 11ms/step - loss: 0.4697 - accuracy: 0.7751 - val_loss: 0.4518 - val_accuracy: 0.7861\n",
      "Epoch 3/90\n",
      "1552/1552 [==============================] - 17s 11ms/step - loss: 0.4361 - accuracy: 0.7988 - val_loss: 0.4283 - val_accuracy: 0.8022\n",
      "Epoch 4/90\n",
      "1552/1552 [==============================] - 16s 11ms/step - loss: 0.4088 - accuracy: 0.8150 - val_loss: 0.3928 - val_accuracy: 0.8224\n",
      "Epoch 5/90\n",
      "1552/1552 [==============================] - 15s 9ms/step - loss: 0.3869 - accuracy: 0.8280 - val_loss: 0.3747 - val_accuracy: 0.8333\n",
      "Epoch 6/90\n",
      "1552/1552 [==============================] - 15s 10ms/step - loss: 0.3673 - accuracy: 0.8391 - val_loss: 0.3791 - val_accuracy: 0.8367\n",
      "Epoch 7/90\n",
      "1552/1552 [==============================] - 15s 9ms/step - loss: 0.3525 - accuracy: 0.8475 - val_loss: 0.3674 - val_accuracy: 0.8419\n",
      "Epoch 8/90\n",
      "1552/1552 [==============================] - 15s 10ms/step - loss: 0.3365 - accuracy: 0.8568 - val_loss: 0.3419 - val_accuracy: 0.8545\n",
      "Epoch 9/90\n",
      "1552/1552 [==============================] - 15s 10ms/step - loss: 0.3220 - accuracy: 0.8636 - val_loss: 0.3219 - val_accuracy: 0.8658\n",
      "Epoch 10/90\n",
      "1552/1552 [==============================] - 15s 10ms/step - loss: 0.3069 - accuracy: 0.8710 - val_loss: 0.3109 - val_accuracy: 0.8697\n",
      "Epoch 11/90\n",
      "1552/1552 [==============================] - 15s 10ms/step - loss: 0.2959 - accuracy: 0.8770 - val_loss: 0.3315 - val_accuracy: 0.8667\n",
      "Epoch 12/90\n",
      "1552/1552 [==============================] - 15s 10ms/step - loss: 0.2920 - accuracy: 0.8810 - val_loss: 0.3083 - val_accuracy: 0.8790\n",
      "Epoch 13/90\n",
      "1552/1552 [==============================] - 15s 10ms/step - loss: 0.2741 - accuracy: 0.8873 - val_loss: 0.2878 - val_accuracy: 0.8781\n",
      "Epoch 14/90\n",
      "1552/1552 [==============================] - 15s 10ms/step - loss: 0.2673 - accuracy: 0.8917 - val_loss: 0.2893 - val_accuracy: 0.8852\n",
      "Epoch 15/90\n",
      "1552/1552 [==============================] - 15s 10ms/step - loss: 0.2605 - accuracy: 0.8949 - val_loss: 0.2706 - val_accuracy: 0.8936\n",
      "Epoch 16/90\n",
      "1552/1552 [==============================] - 16s 10ms/step - loss: 0.2435 - accuracy: 0.9019 - val_loss: 0.2691 - val_accuracy: 0.8903\n",
      "Epoch 17/90\n",
      "1552/1552 [==============================] - 15s 10ms/step - loss: 0.2446 - accuracy: 0.9029 - val_loss: 0.2610 - val_accuracy: 0.8974\n",
      "Epoch 18/90\n",
      "1552/1552 [==============================] - 15s 10ms/step - loss: 0.2313 - accuracy: 0.9079 - val_loss: 0.2491 - val_accuracy: 0.9016\n",
      "Epoch 19/90\n",
      "1552/1552 [==============================] - 15s 10ms/step - loss: 0.2188 - accuracy: 0.9122 - val_loss: 0.2443 - val_accuracy: 0.9021\n",
      "Epoch 20/90\n",
      "1552/1552 [==============================] - 15s 10ms/step - loss: 0.2141 - accuracy: 0.9153 - val_loss: 0.2422 - val_accuracy: 0.9063\n",
      "Epoch 21/90\n",
      "1552/1552 [==============================] - 15s 10ms/step - loss: 0.2097 - accuracy: 0.9179 - val_loss: 0.2405 - val_accuracy: 0.9073\n",
      "Epoch 22/90\n",
      "1552/1552 [==============================] - 15s 10ms/step - loss: 0.2013 - accuracy: 0.9204 - val_loss: 0.2509 - val_accuracy: 0.9066\n",
      "Epoch 23/90\n",
      "1552/1552 [==============================] - 15s 10ms/step - loss: 0.1958 - accuracy: 0.9230 - val_loss: 0.2400 - val_accuracy: 0.9107\n",
      "Epoch 24/90\n",
      "1552/1552 [==============================] - 15s 10ms/step - loss: 0.1968 - accuracy: 0.9247 - val_loss: 0.2368 - val_accuracy: 0.9119\n",
      "Epoch 25/90\n",
      "1552/1552 [==============================] - 15s 10ms/step - loss: 0.1815 - accuracy: 0.9281 - val_loss: 0.2336 - val_accuracy: 0.9142\n",
      "Epoch 26/90\n",
      "1552/1552 [==============================] - 15s 10ms/step - loss: 0.1849 - accuracy: 0.9294 - val_loss: 0.2308 - val_accuracy: 0.9145\n",
      "Epoch 27/90\n",
      "1552/1552 [==============================] - 15s 10ms/step - loss: 0.1710 - accuracy: 0.9326 - val_loss: 0.2304 - val_accuracy: 0.9194\n",
      "Epoch 28/90\n",
      "1552/1552 [==============================] - 16s 10ms/step - loss: 0.1757 - accuracy: 0.9321 - val_loss: 0.2310 - val_accuracy: 0.9214\n",
      "Epoch 29/90\n",
      "1552/1552 [==============================] - 15s 10ms/step - loss: 0.1707 - accuracy: 0.9366 - val_loss: 0.2405 - val_accuracy: 0.9199\n",
      "Epoch 30/90\n",
      "1552/1552 [==============================] - 15s 10ms/step - loss: 0.1666 - accuracy: 0.9382 - val_loss: 0.2274 - val_accuracy: 0.9207\n",
      "Epoch 31/90\n",
      "1552/1552 [==============================] - 15s 10ms/step - loss: 0.1609 - accuracy: 0.9384 - val_loss: 0.2399 - val_accuracy: 0.9219\n",
      "Epoch 32/90\n",
      "1552/1552 [==============================] - 15s 10ms/step - loss: 0.1636 - accuracy: 0.9386 - val_loss: 0.2088 - val_accuracy: 0.9275\n",
      "Epoch 33/90\n",
      "1552/1552 [==============================] - 15s 10ms/step - loss: 0.1589 - accuracy: 0.9409 - val_loss: 0.2112 - val_accuracy: 0.9268\n",
      "Epoch 34/90\n",
      "1552/1552 [==============================] - 15s 10ms/step - loss: 0.1511 - accuracy: 0.9417 - val_loss: 0.2173 - val_accuracy: 0.9230\n",
      "Epoch 35/90\n",
      "1552/1552 [==============================] - 15s 10ms/step - loss: 0.1459 - accuracy: 0.9446 - val_loss: 0.2144 - val_accuracy: 0.9258\n",
      "Epoch 36/90\n",
      "1552/1552 [==============================] - 15s 10ms/step - loss: 0.1400 - accuracy: 0.9467 - val_loss: 0.2380 - val_accuracy: 0.9189\n",
      "Epoch 37/90\n",
      "1552/1552 [==============================] - 15s 10ms/step - loss: 0.1441 - accuracy: 0.9461 - val_loss: 0.2169 - val_accuracy: 0.9218\n",
      "Epoch 38/90\n",
      "1552/1552 [==============================] - 15s 10ms/step - loss: 0.1348 - accuracy: 0.9484 - val_loss: 0.2130 - val_accuracy: 0.9257\n",
      "Epoch 39/90\n",
      "1552/1552 [==============================] - 15s 10ms/step - loss: 0.1323 - accuracy: 0.9501 - val_loss: 0.2136 - val_accuracy: 0.9294\n",
      "Epoch 40/90\n",
      "1552/1552 [==============================] - 15s 10ms/step - loss: 0.1294 - accuracy: 0.9508 - val_loss: 0.2194 - val_accuracy: 0.9284\n",
      "Epoch 41/90\n",
      "1552/1552 [==============================] - 15s 10ms/step - loss: 0.1290 - accuracy: 0.9526 - val_loss: 0.2140 - val_accuracy: 0.9303\n",
      "Epoch 42/90\n",
      "1552/1552 [==============================] - 15s 10ms/step - loss: 0.1292 - accuracy: 0.9532 - val_loss: 0.2032 - val_accuracy: 0.9326\n",
      "Epoch 43/90\n",
      "1552/1552 [==============================] - 15s 10ms/step - loss: 0.1211 - accuracy: 0.9535 - val_loss: 0.2195 - val_accuracy: 0.9303\n",
      "Epoch 44/90\n",
      "1552/1552 [==============================] - 15s 10ms/step - loss: 0.1242 - accuracy: 0.9534 - val_loss: 0.2088 - val_accuracy: 0.9311\n",
      "Epoch 45/90\n",
      "1552/1552 [==============================] - 15s 10ms/step - loss: 0.1173 - accuracy: 0.9558 - val_loss: 0.2231 - val_accuracy: 0.9288\n",
      "Epoch 46/90\n",
      "1552/1552 [==============================] - 16s 10ms/step - loss: 0.1169 - accuracy: 0.9567 - val_loss: 0.2053 - val_accuracy: 0.9334\n",
      "Epoch 47/90\n",
      "1552/1552 [==============================] - 15s 10ms/step - loss: 0.1109 - accuracy: 0.9579 - val_loss: 0.2157 - val_accuracy: 0.9311\n",
      "Epoch 48/90\n",
      "1552/1552 [==============================] - 15s 10ms/step - loss: 0.1158 - accuracy: 0.9568 - val_loss: 0.2093 - val_accuracy: 0.9324\n",
      "Epoch 49/90\n",
      "1552/1552 [==============================] - 15s 10ms/step - loss: 0.1159 - accuracy: 0.9566 - val_loss: 0.2093 - val_accuracy: 0.9324\n",
      "Epoch 50/90\n",
      "1552/1552 [==============================] - 15s 10ms/step - loss: 0.1115 - accuracy: 0.9574 - val_loss: 0.2127 - val_accuracy: 0.9341\n",
      "Epoch 51/90\n",
      "1552/1552 [==============================] - 15s 10ms/step - loss: 0.1062 - accuracy: 0.9602 - val_loss: 0.2048 - val_accuracy: 0.9346\n",
      "Epoch 52/90\n",
      "1552/1552 [==============================] - 15s 10ms/step - loss: 0.1087 - accuracy: 0.9601 - val_loss: 0.2167 - val_accuracy: 0.9344\n",
      "Epoch 53/90\n",
      "1552/1552 [==============================] - 16s 10ms/step - loss: 0.1051 - accuracy: 0.9601 - val_loss: 0.2156 - val_accuracy: 0.9348\n",
      "Epoch 54/90\n",
      "1552/1552 [==============================] - 15s 10ms/step - loss: 0.1032 - accuracy: 0.9613 - val_loss: 0.2147 - val_accuracy: 0.9323\n",
      "Epoch 55/90\n",
      "1552/1552 [==============================] - 15s 10ms/step - loss: 0.1017 - accuracy: 0.9614 - val_loss: 0.2243 - val_accuracy: 0.9351\n",
      "Epoch 56/90\n",
      "1552/1552 [==============================] - 15s 10ms/step - loss: 0.0992 - accuracy: 0.9625 - val_loss: 0.2325 - val_accuracy: 0.9326\n"
     ]
    },
    {
     "name": "stdout",
     "output_type": "stream",
     "text": [
      "Epoch 57/90\n",
      "1552/1552 [==============================] - 15s 9ms/step - loss: 0.0985 - accuracy: 0.9628 - val_loss: 0.2238 - val_accuracy: 0.9319\n",
      "Epoch 58/90\n",
      "1552/1552 [==============================] - 15s 9ms/step - loss: 0.0997 - accuracy: 0.9632 - val_loss: 0.2257 - val_accuracy: 0.9352\n",
      "Epoch 59/90\n",
      "1552/1552 [==============================] - 15s 9ms/step - loss: 0.0992 - accuracy: 0.9630 - val_loss: 0.2176 - val_accuracy: 0.9379\n",
      "Epoch 60/90\n",
      "1552/1552 [==============================] - 15s 10ms/step - loss: 0.0938 - accuracy: 0.9651 - val_loss: 0.2207 - val_accuracy: 0.9347\n",
      "Epoch 61/90\n",
      "1552/1552 [==============================] - 15s 10ms/step - loss: 0.0980 - accuracy: 0.9635 - val_loss: 0.2303 - val_accuracy: 0.9326\n",
      "Epoch 62/90\n",
      "1552/1552 [==============================] - 15s 10ms/step - loss: 0.0907 - accuracy: 0.9658 - val_loss: 0.2146 - val_accuracy: 0.9374\n",
      "Epoch 63/90\n",
      "1552/1552 [==============================] - 15s 10ms/step - loss: 0.1009 - accuracy: 0.9654 - val_loss: 0.2321 - val_accuracy: 0.9354\n",
      "Epoch 64/90\n",
      "1552/1552 [==============================] - 15s 9ms/step - loss: 0.0947 - accuracy: 0.9647 - val_loss: 0.2198 - val_accuracy: 0.9357\n",
      "Epoch 65/90\n",
      "1552/1552 [==============================] - 15s 9ms/step - loss: 0.0907 - accuracy: 0.9665 - val_loss: 0.2289 - val_accuracy: 0.9355\n",
      "Epoch 66/90\n",
      "1552/1552 [==============================] - 15s 10ms/step - loss: 0.0909 - accuracy: 0.9651 - val_loss: 0.2201 - val_accuracy: 0.9373\n",
      "Epoch 67/90\n",
      "1552/1552 [==============================] - 15s 10ms/step - loss: 0.0871 - accuracy: 0.9673 - val_loss: 0.2340 - val_accuracy: 0.9373\n",
      "Epoch 68/90\n",
      "1552/1552 [==============================] - 15s 10ms/step - loss: 0.0945 - accuracy: 0.9672 - val_loss: 0.2245 - val_accuracy: 0.9349\n",
      "Epoch 69/90\n",
      "1552/1552 [==============================] - 15s 9ms/step - loss: 0.0873 - accuracy: 0.9674 - val_loss: 0.2446 - val_accuracy: 0.9341\n",
      "Epoch 70/90\n",
      "1552/1552 [==============================] - 15s 10ms/step - loss: 0.0845 - accuracy: 0.9689 - val_loss: 0.2436 - val_accuracy: 0.9339\n",
      "Epoch 71/90\n",
      "1552/1552 [==============================] - 15s 10ms/step - loss: 0.0875 - accuracy: 0.9674 - val_loss: 0.2248 - val_accuracy: 0.9382\n",
      "Epoch 72/90\n",
      "1552/1552 [==============================] - 15s 10ms/step - loss: 0.0815 - accuracy: 0.9694 - val_loss: 0.2218 - val_accuracy: 0.9378\n",
      "Epoch 73/90\n",
      "1552/1552 [==============================] - 15s 10ms/step - loss: 0.0873 - accuracy: 0.9675 - val_loss: 0.2276 - val_accuracy: 0.9348\n",
      "Epoch 74/90\n",
      "1552/1552 [==============================] - 15s 10ms/step - loss: 0.0786 - accuracy: 0.9703 - val_loss: 0.2297 - val_accuracy: 0.9379\n",
      "Epoch 75/90\n",
      "1552/1552 [==============================] - 15s 10ms/step - loss: 0.0854 - accuracy: 0.9690 - val_loss: 0.2351 - val_accuracy: 0.9369\n",
      "Epoch 76/90\n",
      "1552/1552 [==============================] - 15s 10ms/step - loss: 0.0845 - accuracy: 0.9688 - val_loss: 0.2341 - val_accuracy: 0.9377\n",
      "Epoch 77/90\n",
      "1552/1552 [==============================] - 15s 10ms/step - loss: 0.0816 - accuracy: 0.9703 - val_loss: 0.2421 - val_accuracy: 0.9379\n",
      "Epoch 78/90\n",
      "1552/1552 [==============================] - 16s 10ms/step - loss: 0.0784 - accuracy: 0.9707 - val_loss: 0.2382 - val_accuracy: 0.9408\n",
      "Epoch 79/90\n",
      "1552/1552 [==============================] - 15s 10ms/step - loss: 0.0771 - accuracy: 0.9709 - val_loss: 0.2260 - val_accuracy: 0.9423\n",
      "Epoch 80/90\n",
      "1552/1552 [==============================] - 15s 10ms/step - loss: 0.0829 - accuracy: 0.9702 - val_loss: 0.2144 - val_accuracy: 0.9388\n",
      "Epoch 81/90\n",
      "1552/1552 [==============================] - 15s 10ms/step - loss: 0.0766 - accuracy: 0.9719 - val_loss: 0.2240 - val_accuracy: 0.9406\n",
      "Epoch 82/90\n",
      "1552/1552 [==============================] - 15s 10ms/step - loss: 0.0749 - accuracy: 0.9716 - val_loss: 0.2309 - val_accuracy: 0.9398\n",
      "Epoch 83/90\n",
      "1552/1552 [==============================] - 15s 10ms/step - loss: 0.0748 - accuracy: 0.9720 - val_loss: 0.2218 - val_accuracy: 0.9429\n",
      "Epoch 84/90\n",
      "1552/1552 [==============================] - 15s 10ms/step - loss: 0.0781 - accuracy: 0.9709 - val_loss: 0.2217 - val_accuracy: 0.9375\n",
      "Epoch 85/90\n",
      "1552/1552 [==============================] - 15s 10ms/step - loss: 0.0772 - accuracy: 0.9713 - val_loss: 0.2350 - val_accuracy: 0.9412\n",
      "Epoch 86/90\n",
      "1552/1552 [==============================] - 15s 10ms/step - loss: 0.0739 - accuracy: 0.9729 - val_loss: 0.2223 - val_accuracy: 0.9417\n",
      "Epoch 87/90\n",
      "1552/1552 [==============================] - 15s 10ms/step - loss: 0.0721 - accuracy: 0.9731 - val_loss: 0.2630 - val_accuracy: 0.9336\n",
      "Epoch 88/90\n",
      "1552/1552 [==============================] - 15s 10ms/step - loss: 0.0787 - accuracy: 0.9713 - val_loss: 0.2127 - val_accuracy: 0.9410\n",
      "Epoch 89/90\n",
      "1552/1552 [==============================] - 15s 10ms/step - loss: 0.0723 - accuracy: 0.9733 - val_loss: 0.2336 - val_accuracy: 0.9397\n",
      "Epoch 90/90\n",
      "1552/1552 [==============================] - 15s 10ms/step - loss: 0.0735 - accuracy: 0.9722 - val_loss: 0.2418 - val_accuracy: 0.9377\n"
     ]
    }
   ],
   "source": [
    "# Compile the model with binary cross-entropy loss and Adam optimizer\n",
    "cnn_model.compile(loss='binary_crossentropy', optimizer=Adam(lr=0.001), metrics=['accuracy'])\n",
    "\n",
    "nb_epochs = 90\n",
    "batch_size = 64\n",
    "\n",
    "# Train the CNN model on the training data\n",
    "history = cnn_model.fit(cnn_X_train, cnn_y_train, epochs=nb_epochs, batch_size=batch_size, validation_split=0.15)"
   ]
  },
  {
   "cell_type": "code",
   "execution_count": 9,
   "id": "905c30ae",
   "metadata": {
    "scrolled": true
   },
   "outputs": [
    {
     "name": "stdout",
     "output_type": "stream",
     "text": [
      "1565/1565 [==============================] - 4s 3ms/step\n",
      "1565/1565 [==============================] - 5s 3ms/step - loss: 0.2229 - accuracy: 0.9411\n",
      "Testing Accuracy: 0.9410648941993713\n",
      "Testing metrics:               precision    recall  f1-score   support\n",
      "\n",
      "           0       0.95      0.97      0.96     36337\n",
      "           1       0.92      0.86      0.89     13735\n",
      "\n",
      "    accuracy                           0.94     50072\n",
      "   macro avg       0.93      0.92      0.92     50072\n",
      "weighted avg       0.94      0.94      0.94     50072\n",
      "\n",
      "Number of test anomalies: 13735\n",
      "Number of predicted anomalies: 12866\n"
     ]
    }
   ],
   "source": [
    "# Predict the labels of the test data\n",
    "cnn_y_pred = cnn_model.predict(cnn_X_test)\n",
    "\n",
    "# Convert the predicted probabilities to class labels\n",
    "cnn_y_pred = pd.Series(np.ravel(cnn_y_pred))\n",
    "\n",
    "# Evaluate the model on the testing set\n",
    "cnn_loss, cnn_accuracy = cnn_model.evaluate(cnn_X_test, cnn_y_test)\n",
    "print('Testing Accuracy:', cnn_accuracy)\n",
    "\n",
    "# Convert the predicted probabilities to class labels\n",
    "cnn_y_pred = pd.Series(np.ravel(cnn_y_pred))\n",
    "cnn_y_pred = (cnn_y_pred >= 0.5)\n",
    "\n",
    "# Compute the recall score\n",
    "cnn_report = classification_report(cnn_y_test,cnn_y_pred)\n",
    "\n",
    "print('Testing metrics:',cnn_report)\n",
    "\n",
    "print('Number of test anomalies:',cnn_y_test.sum())\n",
    "print('Number of predicted anomalies:',cnn_y_pred.sum())"
   ]
  },
  {
   "cell_type": "code",
   "execution_count": 10,
   "id": "c4c03c36",
   "metadata": {},
   "outputs": [
    {
     "name": "stdout",
     "output_type": "stream",
     "text": [
      "MAE:  0.05893513340789264\n",
      "RMSE:  0.2427655935421917\n",
      "Training loss:  0.07347855716943741\n",
      "Validation loss:  0.24179793894290924\n"
     ]
    }
   ],
   "source": [
    "from sklearn.metrics import mean_absolute_error, mean_squared_error\n",
    "\n",
    "# calculate the metrics\n",
    "mae = mean_absolute_error(cnn_y_test,cnn_y_pred)\n",
    "rmse = np.sqrt(mean_squared_error(cnn_y_test,cnn_y_pred))\n",
    "train_loss = history.history['loss'][-1]\n",
    "val_loss = history.history['val_loss'][-1]\n",
    "\n",
    "print(\"MAE: \", np.mean(mae))\n",
    "print(\"RMSE: \", rmse)\n",
    "print(\"Training loss: \", train_loss)\n",
    "print(\"Validation loss: \", val_loss)"
   ]
  },
  {
   "cell_type": "code",
   "execution_count": 11,
   "id": "c56d24de",
   "metadata": {},
   "outputs": [
    {
     "data": {
      "image/png": "[encoded data removed]",
      "text/plain": [
       "<Figure size 640x480 with 2 Axes>"
      ]
     },
     "metadata": {},
     "output_type": "display_data"
    },
    {
     "data": {
      "text/plain": [
       "<Figure size 640x480 with 0 Axes>"
      ]
     },
     "metadata": {},
     "output_type": "display_data"
    }
   ],
   "source": [
    "# Compute the confusion matrix\n",
    "cnn_cm = confusion_matrix(cnn_y_test,cnn_y_pred)\n",
    "\n",
    "# Plot the confusion matrix\n",
    "sns.heatmap(cnn_cm, annot=True, cmap='Blues', fmt='g')\n",
    "plt.xlabel('Predicted')\n",
    "plt.ylabel('True')\n",
    "plt.show()\n",
    "\n",
    "# save the plot as an image\n",
    "plt.savefig('cnn_confusion_matrix.png')"
   ]
  },
  {
   "cell_type": "markdown",
   "id": "a79fe942",
   "metadata": {},
   "source": [
    "### ANN"
   ]
  },
  {
   "cell_type": "code",
   "execution_count": 7,
   "id": "c1071991",
   "metadata": {},
   "outputs": [],
   "source": [
    "# Build the ANN model\n",
    "ann_model = Sequential()\n",
    "ann_model.add(Dense(units=2048, activation='relu', input_dim=cnn_X_train.shape[1]))\n",
    "ann_model.add(Dropout(0.2))\n",
    "ann_model.add(Dense(units=1024, activation='relu', input_dim=cnn_X_train.shape[1]))\n",
    "ann_model.add(Dropout(0.2))\n",
    "ann_model.add(Dense(units=512, activation='relu', input_dim=cnn_X_train.shape[1]))\n",
    "ann_model.add(Dropout(0.2))\n",
    "ann_model.add(Dense(units=256, activation='relu', input_dim=cnn_X_train.shape[1]))\n",
    "ann_model.add(Dropout(0.2))\n",
    "ann_model.add(Dense(units=128, activation='relu', input_dim=cnn_X_train.shape[1]))\n",
    "ann_model.add(Dropout(0.2))\n",
    "ann_model.add(Dense(units=16, activation='relu'))\n",
    "ann_model.add(Dropout(0.2))\n",
    "ann_model.add(Dense(units=1, activation='sigmoid'))"
   ]
  },
  {
   "cell_type": "code",
   "execution_count": 8,
   "id": "511b2050",
   "metadata": {
    "scrolled": true
   },
   "outputs": [
    {
     "name": "stdout",
     "output_type": "stream",
     "text": [
      "Epoch 1/50\n",
      "776/776 [==============================] - 39s 49ms/step - loss: 0.5090 - accuracy: 0.7484 - val_loss: 0.4606 - val_accuracy: 0.7641\n",
      "Epoch 2/50\n",
      "776/776 [==============================] - 29s 38ms/step - loss: 0.4524 - accuracy: 0.7849 - val_loss: 0.4369 - val_accuracy: 0.7985\n",
      "Epoch 3/50\n",
      "776/776 [==============================] - 29s 38ms/step - loss: 0.4194 - accuracy: 0.8058 - val_loss: 0.3912 - val_accuracy: 0.8197\n",
      "Epoch 4/50\n",
      "776/776 [==============================] - 29s 38ms/step - loss: 0.3928 - accuracy: 0.8202 - val_loss: 0.3664 - val_accuracy: 0.8329\n",
      "Epoch 5/50\n",
      "776/776 [==============================] - 29s 38ms/step - loss: 0.3682 - accuracy: 0.8331 - val_loss: 0.3437 - val_accuracy: 0.8441\n",
      "Epoch 6/50\n",
      "776/776 [==============================] - 29s 38ms/step - loss: 0.3464 - accuracy: 0.8449 - val_loss: 0.3224 - val_accuracy: 0.8561\n",
      "Epoch 7/50\n",
      "776/776 [==============================] - 30s 39ms/step - loss: 0.3262 - accuracy: 0.8553 - val_loss: 0.3064 - val_accuracy: 0.8673\n",
      "Epoch 8/50\n",
      "776/776 [==============================] - 30s 39ms/step - loss: 0.3104 - accuracy: 0.8644 - val_loss: 0.2802 - val_accuracy: 0.8798\n",
      "Epoch 9/50\n",
      "776/776 [==============================] - 30s 39ms/step - loss: 0.2980 - accuracy: 0.8704 - val_loss: 0.2677 - val_accuracy: 0.8848\n",
      "Epoch 10/50\n",
      "776/776 [==============================] - 30s 39ms/step - loss: 0.2846 - accuracy: 0.8767 - val_loss: 0.2643 - val_accuracy: 0.8889\n",
      "Epoch 11/50\n",
      "776/776 [==============================] - 30s 38ms/step - loss: 0.2703 - accuracy: 0.8849 - val_loss: 0.2639 - val_accuracy: 0.8917\n",
      "Epoch 12/50\n",
      "776/776 [==============================] - 30s 39ms/step - loss: 0.2625 - accuracy: 0.8879 - val_loss: 0.2337 - val_accuracy: 0.9023\n",
      "Epoch 13/50\n",
      "776/776 [==============================] - 31s 39ms/step - loss: 0.2503 - accuracy: 0.8942 - val_loss: 0.2355 - val_accuracy: 0.9003\n",
      "Epoch 14/50\n",
      "776/776 [==============================] - 30s 39ms/step - loss: 0.2426 - accuracy: 0.8976 - val_loss: 0.2292 - val_accuracy: 0.9065\n",
      "Epoch 15/50\n",
      "776/776 [==============================] - 31s 39ms/step - loss: 0.2343 - accuracy: 0.9022 - val_loss: 0.2239 - val_accuracy: 0.9110\n",
      "Epoch 16/50\n",
      "776/776 [==============================] - 31s 41ms/step - loss: 0.2257 - accuracy: 0.9057 - val_loss: 0.2127 - val_accuracy: 0.9129\n",
      "Epoch 17/50\n",
      "776/776 [==============================] - 30s 39ms/step - loss: 0.2194 - accuracy: 0.9087 - val_loss: 0.2100 - val_accuracy: 0.9148\n",
      "Epoch 18/50\n",
      "776/776 [==============================] - 30s 39ms/step - loss: 0.2134 - accuracy: 0.9106 - val_loss: 0.2031 - val_accuracy: 0.9201\n",
      "Epoch 19/50\n",
      "776/776 [==============================] - 31s 40ms/step - loss: 0.2069 - accuracy: 0.9142 - val_loss: 0.1932 - val_accuracy: 0.9231\n",
      "Epoch 20/50\n",
      "776/776 [==============================] - 30s 39ms/step - loss: 0.2003 - accuracy: 0.9178 - val_loss: 0.1869 - val_accuracy: 0.9240\n",
      "Epoch 21/50\n",
      "776/776 [==============================] - 31s 39ms/step - loss: 0.1965 - accuracy: 0.9180 - val_loss: 0.1834 - val_accuracy: 0.9283\n",
      "Epoch 22/50\n",
      "776/776 [==============================] - 30s 39ms/step - loss: 0.1923 - accuracy: 0.9214 - val_loss: 0.1808 - val_accuracy: 0.9279\n",
      "Epoch 23/50\n",
      "776/776 [==============================] - 31s 40ms/step - loss: 0.1882 - accuracy: 0.9242 - val_loss: 0.1751 - val_accuracy: 0.9324\n",
      "Epoch 24/50\n",
      "776/776 [==============================] - 31s 39ms/step - loss: 0.1839 - accuracy: 0.9253 - val_loss: 0.1758 - val_accuracy: 0.9312\n",
      "Epoch 25/50\n",
      "776/776 [==============================] - 31s 39ms/step - loss: 0.1798 - accuracy: 0.9279 - val_loss: 0.1708 - val_accuracy: 0.9340\n",
      "Epoch 26/50\n",
      "776/776 [==============================] - 31s 40ms/step - loss: 0.1757 - accuracy: 0.9295 - val_loss: 0.1658 - val_accuracy: 0.9367\n",
      "Epoch 27/50\n",
      "776/776 [==============================] - 31s 39ms/step - loss: 0.1725 - accuracy: 0.9311 - val_loss: 0.1621 - val_accuracy: 0.9385\n",
      "Epoch 28/50\n",
      "776/776 [==============================] - 31s 39ms/step - loss: 0.1659 - accuracy: 0.9329 - val_loss: 0.1743 - val_accuracy: 0.9366\n",
      "Epoch 29/50\n",
      "776/776 [==============================] - 31s 39ms/step - loss: 0.1676 - accuracy: 0.9339 - val_loss: 0.1623 - val_accuracy: 0.9410\n",
      "Epoch 30/50\n",
      "776/776 [==============================] - 30s 39ms/step - loss: 0.1607 - accuracy: 0.9359 - val_loss: 0.1495 - val_accuracy: 0.9453\n",
      "Epoch 31/50\n",
      "776/776 [==============================] - 31s 40ms/step - loss: 0.1584 - accuracy: 0.9372 - val_loss: 0.1472 - val_accuracy: 0.9473\n",
      "Epoch 32/50\n",
      "776/776 [==============================] - 31s 40ms/step - loss: 0.1554 - accuracy: 0.9382 - val_loss: 0.1482 - val_accuracy: 0.9444\n",
      "Epoch 33/50\n",
      "776/776 [==============================] - 31s 40ms/step - loss: 0.1501 - accuracy: 0.9415 - val_loss: 0.1490 - val_accuracy: 0.9465\n",
      "Epoch 34/50\n",
      "776/776 [==============================] - 31s 39ms/step - loss: 0.1483 - accuracy: 0.9420 - val_loss: 0.1488 - val_accuracy: 0.9474\n",
      "Epoch 35/50\n",
      "776/776 [==============================] - 32s 41ms/step - loss: 0.1457 - accuracy: 0.9434 - val_loss: 0.1574 - val_accuracy: 0.9387\n",
      "Epoch 36/50\n",
      "776/776 [==============================] - 31s 40ms/step - loss: 0.1473 - accuracy: 0.9424 - val_loss: 0.1476 - val_accuracy: 0.9467\n",
      "Epoch 37/50\n",
      "776/776 [==============================] - 28s 36ms/step - loss: 0.1434 - accuracy: 0.9440 - val_loss: 0.1438 - val_accuracy: 0.9484\n",
      "Epoch 38/50\n",
      "776/776 [==============================] - 28s 36ms/step - loss: 0.1407 - accuracy: 0.9451 - val_loss: 0.1390 - val_accuracy: 0.9530\n",
      "Epoch 39/50\n",
      "776/776 [==============================] - 44s 57ms/step - loss: 0.1320 - accuracy: 0.9488 - val_loss: 0.1276 - val_accuracy: 0.9549\n",
      "Epoch 43/50\n",
      "776/776 [==============================] - 47s 60ms/step - loss: 0.1299 - accuracy: 0.9504 - val_loss: 0.1356 - val_accuracy: 0.9522\n",
      "Epoch 44/50\n",
      "776/776 [==============================] - 48s 62ms/step - loss: 0.1292 - accuracy: 0.9503 - val_loss: 0.1301 - val_accuracy: 0.9560\n",
      "Epoch 45/50\n",
      "776/776 [==============================] - 42s 54ms/step - loss: 0.1283 - accuracy: 0.9511 - val_loss: 0.1289 - val_accuracy: 0.9570\n",
      "Epoch 46/50\n",
      "776/776 [==============================] - 35s 46ms/step - loss: 0.1252 - accuracy: 0.9523 - val_loss: 0.1256 - val_accuracy: 0.9564\n",
      "Epoch 47/50\n",
      "776/776 [==============================] - 34s 44ms/step - loss: 0.1240 - accuracy: 0.9531 - val_loss: 0.1260 - val_accuracy: 0.9566\n",
      "Epoch 48/50\n",
      "776/776 [==============================] - 30s 39ms/step - loss: 0.1201 - accuracy: 0.9548 - val_loss: 0.1215 - val_accuracy: 0.9587\n",
      "Epoch 49/50\n",
      "776/776 [==============================] - 30s 39ms/step - loss: 0.1223 - accuracy: 0.9529 - val_loss: 0.1248 - val_accuracy: 0.9587\n",
      "Epoch 50/50\n",
      "776/776 [==============================] - 35s 45ms/step - loss: 0.1205 - accuracy: 0.9538 - val_loss: 0.1220 - val_accuracy: 0.9587\n",
      "1565/1565 [==============================] - 10s 6ms/step - loss: 0.1165 - accuracy: 0.9593\n",
      "Loss: 0.11652345955371857\n",
      "Accuracy: 0.9592986106872559\n"
     ]
    }
   ],
   "source": [
    "# Compile the model\n",
    "ann_model.compile(optimizer=Adam(learning_rate=0.001), loss='binary_crossentropy', metrics=['accuracy'])\n",
    "\n",
    "nbepochs=50\n",
    "batchsize=128\n",
    "\n",
    "# Train the model\n",
    "ann_history = ann_model.fit(cnn_X_train, cnn_y_train, epochs=nbepochs, batch_size=batchsize, validation_split=0.15)\n",
    "\n",
    "# Evaluate the model on the test set\n",
    "ann_loss, ann_accuracy = ann_model.evaluate(cnn_X_test, cnn_y_test)\n",
    "print('Loss:', ann_loss)\n",
    "print('Accuracy:', ann_accuracy)"
   ]
  },
  {
   "cell_type": "code",
   "execution_count": 9,
   "id": "f22b8e06",
   "metadata": {
    "scrolled": true
   },
   "outputs": [
    {
     "name": "stdout",
     "output_type": "stream",
     "text": [
      "1565/1565 [==============================] - 10s 6ms/step\n",
      "              precision    recall  f1-score   support\n",
      "\n",
      "           0       0.97      0.98      0.97     36306\n",
      "           1       0.94      0.91      0.93     13766\n",
      "\n",
      "    accuracy                           0.96     50072\n",
      "   macro avg       0.95      0.95      0.95     50072\n",
      "weighted avg       0.96      0.96      0.96     50072\n",
      "\n"
     ]
    }
   ],
   "source": [
    "# Predict the labels of the test data\n",
    "ann_y_pred = ann_model.predict(cnn_X_test)\n",
    "# Convert the predicted probabilities to class labels\n",
    "ann_y_pred = pd.Series(np.ravel(ann_y_pred))\n",
    "ann_y_pred = (ann_y_pred >= 0.5)\n",
    "\n",
    "# Compute the recall score\n",
    "ann_report = classification_report(cnn_y_test,ann_y_pred)\n",
    "\n",
    "print(ann_report)"
   ]
  },
  {
   "cell_type": "code",
   "execution_count": 10,
   "id": "91dccdc7",
   "metadata": {
    "scrolled": true
   },
   "outputs": [
    {
     "name": "stdout",
     "output_type": "stream",
     "text": [
      "MAE:  0.0407013899984023\n",
      "RMSE:  0.2017458549720472\n",
      "Training loss:  0.12052968144416809\n",
      "Validation loss:  0.12198410928249359\n"
     ]
    }
   ],
   "source": [
    "from sklearn.metrics import mean_absolute_error, mean_squared_error\n",
    "\n",
    "# calculate the metrics\n",
    "mae = mean_absolute_error(cnn_y_test,ann_y_pred)\n",
    "rmse = np.sqrt(mean_squared_error(cnn_y_test,ann_y_pred))\n",
    "train_loss = ann_history.history['loss'][-1]\n",
    "val_loss = ann_history.history['val_loss'][-1]\n",
    "\n",
    "print(\"MAE: \", np.mean(mae))\n",
    "print(\"RMSE: \", rmse)\n",
    "print(\"Training loss: \", train_loss)\n",
    "print(\"Validation loss: \", val_loss)"
   ]
  },
  {
   "cell_type": "code",
   "execution_count": 16,
   "id": "cf222646",
   "metadata": {
    "scrolled": false
   },
   "outputs": [
    {
     "data": {
      "image/png": "[encoded data removed]",
      "text/plain": [
       "<Figure size 640x480 with 2 Axes>"
      ]
     },
     "metadata": {},
     "output_type": "display_data"
    }
   ],
   "source": [
    "# Compute the confusion matrix\n",
    "ann_cm = confusion_matrix(cnn_y_test,ann_y_pred)\n",
    "\n",
    "# Plot the confusion matrix\n",
    "sns.heatmap(ann_cm, annot=True, cmap='Blues', fmt='g')\n",
    "plt.xlabel('Predicted')\n",
    "plt.ylabel('True')\n",
    "plt.show()"
   ]
  },
  {
   "cell_type": "markdown",
   "id": "34b02a23",
   "metadata": {},
   "source": [
    "### XGBoost (for anomaly location)"
   ]
  },
  {
   "cell_type": "code",
   "execution_count": null,
   "id": "2d65a8e3",
   "metadata": {},
   "outputs": [],
   "source": [
    "xgb = XGBClassifier()\n",
    "xgb.fit(Row_X_train, Row_y_train)"
   ]
  },
  {
   "cell_type": "code",
   "execution_count": null,
   "id": "56f47a19",
   "metadata": {},
   "outputs": [],
   "source": []
  }
 ],
 "metadata": {
  "kernelspec": {
   "display_name": "Python 3 (ipykernel)",
   "language": "python",
   "name": "python3"
  },
  "language_info": {
   "codemirror_mode": {
    "name": "ipython",
    "version": 3
   },
   "file_extension": ".py",
   "mimetype": "text/x-python",
   "name": "python",
   "nbconvert_exporter": "python",
   "pygments_lexer": "ipython3",
   "version": "3.10.10"
  }
 },
 "nbformat": 4,
 "nbformat_minor": 5
}
